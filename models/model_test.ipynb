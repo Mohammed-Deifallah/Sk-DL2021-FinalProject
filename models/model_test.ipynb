{
 "metadata": {
  "language_info": {
   "codemirror_mode": {
    "name": "ipython",
    "version": 3
   },
   "file_extension": ".py",
   "mimetype": "text/x-python",
   "name": "python",
   "nbconvert_exporter": "python",
   "pygments_lexer": "ipython3",
   "version": "3.7.10"
  },
  "orig_nbformat": 2,
  "kernelspec": {
   "name": "python3710jvsc74a57bd09b6c46a2cfeb7771fba905868638ca0edd2605d074f7d01797e7e8649bfdb5ca",
   "display_name": "Python 3.7.10 64-bit ('base37': conda)"
  }
 },
 "nbformat": 4,
 "nbformat_minor": 2,
 "cells": [
  {
   "cell_type": "code",
   "execution_count": 1,
   "metadata": {},
   "outputs": [],
   "source": [
    "import torch\n",
    "from models import FC_regressor\n"
   ]
  },
  {
   "cell_type": "code",
   "execution_count": 2,
   "metadata": {},
   "outputs": [],
   "source": [
    "model = FC_regressor(100, 5, sizes=[100, 90,80,70,10], bias = False)"
   ]
  },
  {
   "cell_type": "code",
   "execution_count": 3,
   "metadata": {},
   "outputs": [
    {
     "output_type": "execute_result",
     "data": {
      "text/plain": [
       "FC_regressor(\n",
       "  (net): FC_model(\n",
       "    (layers): ModuleList(\n",
       "      (0): Linear(in_features=100, out_features=100, bias=False)\n",
       "      (1): Linear(in_features=100, out_features=90, bias=False)\n",
       "      (2): Linear(in_features=90, out_features=80, bias=False)\n",
       "      (3): Linear(in_features=80, out_features=70, bias=False)\n",
       "      (4): Linear(in_features=70, out_features=10, bias=False)\n",
       "    )\n",
       "  )\n",
       "  (criterion): MSELoss()\n",
       "  (train_accuracy): Accuracy()\n",
       "  (val_accuracy): Accuracy()\n",
       ")"
      ]
     },
     "metadata": {},
     "execution_count": 3
    }
   ],
   "source": [
    "model"
   ]
  },
  {
   "cell_type": "code",
   "execution_count": 4,
   "metadata": {},
   "outputs": [],
   "source": [
    "x = torch.arange(100)/2"
   ]
  },
  {
   "cell_type": "code",
   "execution_count": 6,
   "metadata": {},
   "outputs": [
    {
     "output_type": "execute_result",
     "data": {
      "text/plain": [
       "tensor([-1.3213,  2.3194, -2.4840,  0.0951, -0.8979,  0.1701,  0.1900,  1.1640,\n",
       "        -0.6679, -0.8029], grad_fn=<SqueezeBackward3>)"
      ]
     },
     "metadata": {},
     "execution_count": 6
    }
   ],
   "source": [
    "model(x)"
   ]
  }
 ]
}