{
 "cells": [
  {
   "cell_type": "code",
   "execution_count": 1,
   "metadata": {},
   "outputs": [],
   "source": [
    "# for colab\n",
    "# !git clone https://github.com/laralex/Sk-DL2021-FinalProject\n",
    "# import sys\n",
    "# sys.path.append('Sk-DL2021-FinalProject')\n",
    "\n",
    "# for local\n",
    "import sys\n",
    "sys.path.append('..')"
   ]
  },
  {
   "cell_type": "code",
   "execution_count": 2,
   "metadata": {},
   "outputs": [],
   "source": [
    "import os\n",
    "import torch\n",
    "from data.split_step_generator import SplitStepGenerator, find_dataset_subdir"
   ]
  },
  {
   "cell_type": "code",
   "execution_count": 3,
   "metadata": {},
   "outputs": [],
   "source": [
    "GOOGLE_DRIVE = False\n",
    "if GOOGLE_DRIVE:\n",
    "    from google.colab import drive\n",
    "    drive.mount(f'./drive')\n",
    "    root_dir = f'./drive/MyDrive/Sk-DL2021-Datasets'\n",
    "else:\n",
    "    root_dir = '../../generated_datasets'\n",
    "if not os.path.exists(root_dir):\n",
    "    os.makedirs(root_dir, exist_ok=True)"
   ]
  },
  {
   "cell_type": "code",
   "execution_count": 4,
   "metadata": {},
   "outputs": [],
   "source": [
    "data_gen = SplitStepGenerator(batch_size=10,\n",
    "                          seq_len=33,\n",
    "                          dispersion=0.6,\n",
    "                          nonlinearity=0.02,\n",
    "                          pulse_width=10,\n",
    "                          z_end=120,\n",
    "                          dz=0.1,\n",
    "                          z_stride=1000,\n",
    "                          dim_t=2**12,\n",
    "                          dispersion_compensate=True,\n",
    "                          num_blocks = 16,\n",
    "                          n_train_batches = 1,\n",
    "                          n_val_batches = 1,\n",
    "                          n_test_batches = 1,\n",
    "                          two_dim_data=True,\n",
    "                          device='available',\n",
    "                          )"
   ]
  },
  {
   "cell_type": "code",
   "execution_count": 5,
   "metadata": {},
   "outputs": [
    {
     "name": "stdout",
     "output_type": "stream",
     "text": [
      "Destination:  ../../generated_datasets/05-21-2021=01-18-46\n"
     ]
    }
   ],
   "source": [
    "import yaml\n",
    "import datetime \n",
    "\n",
    "\n",
    "def create_destination(hparams, datasets_root):\n",
    "    new_dir = f'{root_dir}/{datetime.datetime.now().strftime(\"%m-%d-%Y=%H-%M-%S\")}'\n",
    "    os.makedirs(new_dir)\n",
    "    with open(f'{new_dir}/signal_hparams.yaml', 'w') as outfile:\n",
    "        yaml.dump(hparams, outfile, default_flow_style=False)\n",
    "    return new_dir\n",
    "    \n",
    "destination_root = find_dataset_subdir(data_gen.signal_hparams, root_dir)\n",
    "if destination_root is None:\n",
    "    destination_root = create_destination(data_gen.signal_hparams, root_dir)\n",
    "print('Destination: ', destination_root)       "
   ]
  },
  {
   "cell_type": "code",
   "execution_count": 6,
   "metadata": {},
   "outputs": [
    {
     "name": "stdout",
     "output_type": "stream",
     "text": [
      "Generating the dataset using Split-Step\n",
      "Dataset was generated in 13 sec\n"
     ]
    }
   ],
   "source": [
    "data_gen.prepare_data()\n",
    "data_gen.setup()"
   ]
  },
  {
   "cell_type": "code",
   "execution_count": 7,
   "metadata": {},
   "outputs": [],
   "source": [
    "def save_tensor(tensor, subdir):\n",
    "    if tensor is None:\n",
    "        print('Nothing to save', subdir)\n",
    "        return\n",
    "    if tensor.numel() == 0:\n",
    "        return\n",
    "    i = 0\n",
    "    while os.path.exists(f\"{subdir}/{i}.pt\"):\n",
    "        i += 1\n",
    "    torch.save(tensor, f\"{subdir}/{i}.pt\")\n",
    "    \n",
    "type_subdirs = [destination_root + '/' + sub for sub in ['train', 'val', 'test']]\n",
    "for d in type_subdirs:\n",
    "    os.makedirs(d, exist_ok=True)\n",
    "    \n",
    "save_tensor(data_gen.train, type_subdirs[0])\n",
    "save_tensor(data_gen.val, type_subdirs[1])\n",
    "save_tensor(data_gen.test, type_subdirs[2])"
   ]
  },
  {
   "cell_type": "code",
   "execution_count": 8,
   "metadata": {},
   "outputs": [],
   "source": [
    "data_gen = SplitStepGenerator(batch_size=10,\n",
    "                          seq_len=33,\n",
    "                          dispersion=0.6,\n",
    "                          nonlinearity=0.02,\n",
    "                          pulse_width=10,\n",
    "                          z_end=120,\n",
    "                          dz=0.1,\n",
    "                          z_stride=1000,\n",
    "                          dim_t=2**12,\n",
    "                          dispersion_compensate=True,\n",
    "                          num_blocks = 16,\n",
    "                          two_dim_data=True,\n",
    "                          device='available',\n",
    "                          dataset_root_path=root_dir,\n",
    "                          )"
   ]
  },
  {
   "cell_type": "code",
   "execution_count": 9,
   "metadata": {},
   "outputs": [],
   "source": [
    "data_gen.prepare_data()"
   ]
  },
  {
   "cell_type": "code",
   "execution_count": 10,
   "metadata": {},
   "outputs": [
    {
     "data": {
      "text/plain": [
       "(torch.Size([2, 30, 512, 16]),\n",
       " torch.Size([2, 50, 512, 16]),\n",
       " torch.Size([2, 70, 512, 16]))"
      ]
     },
     "execution_count": 10,
     "metadata": {},
     "output_type": "execute_result"
    }
   ],
   "source": [
    "data_gen.train.shape, data_gen.val.shape, data_gen.test.shape"
   ]
  },
  {
   "cell_type": "code",
   "execution_count": null,
   "metadata": {},
   "outputs": [],
   "source": []
  }
 ],
 "metadata": {
  "kernelspec": {
   "display_name": "Python 3",
   "language": "python",
   "name": "python3"
  },
  "language_info": {
   "codemirror_mode": {
    "name": "ipython",
    "version": 3
   },
   "file_extension": ".py",
   "mimetype": "text/x-python",
   "name": "python",
   "nbconvert_exporter": "python",
   "pygments_lexer": "ipython3",
   "version": "3.8.8"
  }
 },
 "nbformat": 4,
 "nbformat_minor": 4
}
