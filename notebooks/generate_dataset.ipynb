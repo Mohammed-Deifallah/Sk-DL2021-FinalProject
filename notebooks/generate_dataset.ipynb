{
  "nbformat": 4,
  "nbformat_minor": 0,
  "metadata": {
    "kernelspec": {
      "display_name": "Python 3",
      "language": "python",
      "name": "python3"
    },
    "language_info": {
      "codemirror_mode": {
        "name": "ipython",
        "version": 3
      },
      "file_extension": ".py",
      "mimetype": "text/x-python",
      "name": "python",
      "nbconvert_exporter": "python",
      "pygments_lexer": "ipython3",
      "version": "3.8.8"
    },
    "colab": {
      "name": "generate_dataset.ipynb",
      "provenance": []
    },
    "accelerator": "GPU"
  },
  "cells": [
    {
      "cell_type": "code",
      "metadata": {
        "colab": {
          "base_uri": "https://localhost:8080/"
        },
        "id": "CzfKIpz435Z-",
        "outputId": "06050e14-8f92-4110-d022-73177b764940"
      },
      "source": [
        "# for colab\n",
        "!git clone https://github.com/laralex/Sk-DL2021-FinalProject\n",
        "%pushd Sk-DL2021-FinalProject\n",
        "!git pull\n",
        "!git checkout permanent_generation\n",
        "%popd\n",
        "!pip install pytorch_lightning\n",
        "import sys\n",
        "sys.path.append('Sk-DL2021-FinalProject')\n",
        "\n",
        "# for local\n",
        "# import sys\n",
        "# sys.path.append('..')"
      ],
      "execution_count": 1,
      "outputs": [
        {
          "output_type": "stream",
          "text": [
            "fatal: destination path 'Sk-DL2021-FinalProject' already exists and is not an empty directory.\n",
            "/content/Sk-DL2021-FinalProject\n",
            "Already up to date.\n",
            "Already on 'permanent_generation'\n",
            "Your branch is up to date with 'origin/permanent_generation'.\n",
            "/content\n",
            "popd -> /content\n",
            "Requirement already satisfied: pytorch_lightning in /usr/local/lib/python3.7/dist-packages (1.3.2)\n",
            "Requirement already satisfied: PyYAML<=5.4.1,>=5.1 in /usr/local/lib/python3.7/dist-packages (from pytorch_lightning) (5.4.1)\n",
            "Requirement already satisfied: torchmetrics>=0.2.0 in /usr/local/lib/python3.7/dist-packages (from pytorch_lightning) (0.3.2)\n",
            "Requirement already satisfied: tqdm>=4.41.0 in /usr/local/lib/python3.7/dist-packages (from pytorch_lightning) (4.41.1)\n",
            "Requirement already satisfied: fsspec[http]>=2021.4.0 in /usr/local/lib/python3.7/dist-packages (from pytorch_lightning) (2021.5.0)\n",
            "Requirement already satisfied: packaging in /usr/local/lib/python3.7/dist-packages (from pytorch_lightning) (20.9)\n",
            "Requirement already satisfied: pyDeprecate==0.3.0 in /usr/local/lib/python3.7/dist-packages (from pytorch_lightning) (0.3.0)\n",
            "Requirement already satisfied: future>=0.17.1 in /usr/local/lib/python3.7/dist-packages (from pytorch_lightning) (0.18.2)\n",
            "Requirement already satisfied: tensorboard!=2.5.0,>=2.2.0 in /usr/local/lib/python3.7/dist-packages (from pytorch_lightning) (2.4.1)\n",
            "Requirement already satisfied: torch>=1.4 in /usr/local/lib/python3.7/dist-packages (from pytorch_lightning) (1.8.1+cu101)\n",
            "Requirement already satisfied: numpy>=1.17.2 in /usr/local/lib/python3.7/dist-packages (from pytorch_lightning) (1.19.5)\n",
            "Requirement already satisfied: aiohttp; extra == \"http\" in /usr/local/lib/python3.7/dist-packages (from fsspec[http]>=2021.4.0->pytorch_lightning) (3.7.4.post0)\n",
            "Requirement already satisfied: requests; extra == \"http\" in /usr/local/lib/python3.7/dist-packages (from fsspec[http]>=2021.4.0->pytorch_lightning) (2.23.0)\n",
            "Requirement already satisfied: pyparsing>=2.0.2 in /usr/local/lib/python3.7/dist-packages (from packaging->pytorch_lightning) (2.4.7)\n",
            "Requirement already satisfied: tensorboard-plugin-wit>=1.6.0 in /usr/local/lib/python3.7/dist-packages (from tensorboard!=2.5.0,>=2.2.0->pytorch_lightning) (1.8.0)\n",
            "Requirement already satisfied: setuptools>=41.0.0 in /usr/local/lib/python3.7/dist-packages (from tensorboard!=2.5.0,>=2.2.0->pytorch_lightning) (56.1.0)\n",
            "Requirement already satisfied: wheel>=0.26; python_version >= \"3\" in /usr/local/lib/python3.7/dist-packages (from tensorboard!=2.5.0,>=2.2.0->pytorch_lightning) (0.36.2)\n",
            "Requirement already satisfied: six>=1.10.0 in /usr/local/lib/python3.7/dist-packages (from tensorboard!=2.5.0,>=2.2.0->pytorch_lightning) (1.15.0)\n",
            "Requirement already satisfied: google-auth-oauthlib<0.5,>=0.4.1 in /usr/local/lib/python3.7/dist-packages (from tensorboard!=2.5.0,>=2.2.0->pytorch_lightning) (0.4.4)\n",
            "Requirement already satisfied: grpcio>=1.24.3 in /usr/local/lib/python3.7/dist-packages (from tensorboard!=2.5.0,>=2.2.0->pytorch_lightning) (1.32.0)\n",
            "Requirement already satisfied: werkzeug>=0.11.15 in /usr/local/lib/python3.7/dist-packages (from tensorboard!=2.5.0,>=2.2.0->pytorch_lightning) (2.0.0)\n",
            "Requirement already satisfied: google-auth<2,>=1.6.3 in /usr/local/lib/python3.7/dist-packages (from tensorboard!=2.5.0,>=2.2.0->pytorch_lightning) (1.30.0)\n",
            "Requirement already satisfied: protobuf>=3.6.0 in /usr/local/lib/python3.7/dist-packages (from tensorboard!=2.5.0,>=2.2.0->pytorch_lightning) (3.12.4)\n",
            "Requirement already satisfied: absl-py>=0.4 in /usr/local/lib/python3.7/dist-packages (from tensorboard!=2.5.0,>=2.2.0->pytorch_lightning) (0.12.0)\n",
            "Requirement already satisfied: markdown>=2.6.8 in /usr/local/lib/python3.7/dist-packages (from tensorboard!=2.5.0,>=2.2.0->pytorch_lightning) (3.3.4)\n",
            "Requirement already satisfied: typing-extensions in /usr/local/lib/python3.7/dist-packages (from torch>=1.4->pytorch_lightning) (3.7.4.3)\n",
            "Requirement already satisfied: multidict<7.0,>=4.5 in /usr/local/lib/python3.7/dist-packages (from aiohttp; extra == \"http\"->fsspec[http]>=2021.4.0->pytorch_lightning) (5.1.0)\n",
            "Requirement already satisfied: chardet<5.0,>=2.0 in /usr/local/lib/python3.7/dist-packages (from aiohttp; extra == \"http\"->fsspec[http]>=2021.4.0->pytorch_lightning) (3.0.4)\n",
            "Requirement already satisfied: async-timeout<4.0,>=3.0 in /usr/local/lib/python3.7/dist-packages (from aiohttp; extra == \"http\"->fsspec[http]>=2021.4.0->pytorch_lightning) (3.0.1)\n",
            "Requirement already satisfied: yarl<2.0,>=1.0 in /usr/local/lib/python3.7/dist-packages (from aiohttp; extra == \"http\"->fsspec[http]>=2021.4.0->pytorch_lightning) (1.6.3)\n",
            "Requirement already satisfied: attrs>=17.3.0 in /usr/local/lib/python3.7/dist-packages (from aiohttp; extra == \"http\"->fsspec[http]>=2021.4.0->pytorch_lightning) (21.2.0)\n",
            "Requirement already satisfied: idna<3,>=2.5 in /usr/local/lib/python3.7/dist-packages (from requests; extra == \"http\"->fsspec[http]>=2021.4.0->pytorch_lightning) (2.10)\n",
            "Requirement already satisfied: certifi>=2017.4.17 in /usr/local/lib/python3.7/dist-packages (from requests; extra == \"http\"->fsspec[http]>=2021.4.0->pytorch_lightning) (2020.12.5)\n",
            "Requirement already satisfied: urllib3!=1.25.0,!=1.25.1,<1.26,>=1.21.1 in /usr/local/lib/python3.7/dist-packages (from requests; extra == \"http\"->fsspec[http]>=2021.4.0->pytorch_lightning) (1.24.3)\n",
            "Requirement already satisfied: requests-oauthlib>=0.7.0 in /usr/local/lib/python3.7/dist-packages (from google-auth-oauthlib<0.5,>=0.4.1->tensorboard!=2.5.0,>=2.2.0->pytorch_lightning) (1.3.0)\n",
            "Requirement already satisfied: pyasn1-modules>=0.2.1 in /usr/local/lib/python3.7/dist-packages (from google-auth<2,>=1.6.3->tensorboard!=2.5.0,>=2.2.0->pytorch_lightning) (0.2.8)\n",
            "Requirement already satisfied: rsa<5,>=3.1.4; python_version >= \"3.6\" in /usr/local/lib/python3.7/dist-packages (from google-auth<2,>=1.6.3->tensorboard!=2.5.0,>=2.2.0->pytorch_lightning) (4.7.2)\n",
            "Requirement already satisfied: cachetools<5.0,>=2.0.0 in /usr/local/lib/python3.7/dist-packages (from google-auth<2,>=1.6.3->tensorboard!=2.5.0,>=2.2.0->pytorch_lightning) (4.2.2)\n",
            "Requirement already satisfied: importlib-metadata; python_version < \"3.8\" in /usr/local/lib/python3.7/dist-packages (from markdown>=2.6.8->tensorboard!=2.5.0,>=2.2.0->pytorch_lightning) (4.0.1)\n",
            "Requirement already satisfied: oauthlib>=3.0.0 in /usr/local/lib/python3.7/dist-packages (from requests-oauthlib>=0.7.0->google-auth-oauthlib<0.5,>=0.4.1->tensorboard!=2.5.0,>=2.2.0->pytorch_lightning) (3.1.0)\n",
            "Requirement already satisfied: pyasn1<0.5.0,>=0.4.6 in /usr/local/lib/python3.7/dist-packages (from pyasn1-modules>=0.2.1->google-auth<2,>=1.6.3->tensorboard!=2.5.0,>=2.2.0->pytorch_lightning) (0.4.8)\n",
            "Requirement already satisfied: zipp>=0.5 in /usr/local/lib/python3.7/dist-packages (from importlib-metadata; python_version < \"3.8\"->markdown>=2.6.8->tensorboard!=2.5.0,>=2.2.0->pytorch_lightning) (3.4.1)\n"
          ],
          "name": "stdout"
        }
      ]
    },
    {
      "cell_type": "code",
      "metadata": {
        "id": "fHWPWV-W35aF"
      },
      "source": [
        "import os\n",
        "import torch\n",
        "from data.split_step_generator import SplitStepGenerator, find_dataset_subdir"
      ],
      "execution_count": 2,
      "outputs": []
    },
    {
      "cell_type": "code",
      "metadata": {
        "id": "87lwyusR35aH"
      },
      "source": [
        "GOOGLE_DRIVE = False\n",
        "if GOOGLE_DRIVE:\n",
        "    from google.colab import drive\n",
        "    drive.mount(f'./drive')\n",
        "    root_dir = f'./drive/MyDrive/Sk-DL2021-Datasets'\n",
        "else:\n",
        "    root_dir = '../../generated_datasets'\n",
        "if not os.path.exists(root_dir):\n",
        "    os.makedirs(root_dir, exist_ok=True)"
      ],
      "execution_count": 3,
      "outputs": []
    },
    {
      "cell_type": "code",
      "metadata": {
        "id": "gu7yP7JL35aJ"
      },
      "source": [
        "data_gen = SplitStepGenerator(batch_size=10,\n",
        "                          seq_len=33,\n",
        "                          dispersion=0.6,\n",
        "                          nonlinearity=0.02,\n",
        "                          pulse_width=10,\n",
        "                          z_end=120,\n",
        "                          dz=0.1,\n",
        "                          z_stride=1000,\n",
        "                          dim_t=2**12,\n",
        "                          dispersion_compensate=True,\n",
        "                          num_blocks = 16,\n",
        "                          n_train_batches = 1,\n",
        "                          n_val_batches = 1,\n",
        "                          n_test_batches = 1,\n",
        "                          two_dim_data=True,\n",
        "                          device='available',\n",
        "                          )"
      ],
      "execution_count": 4,
      "outputs": []
    },
    {
      "cell_type": "code",
      "metadata": {
        "colab": {
          "base_uri": "https://localhost:8080/"
        },
        "id": "xY0heg3q35aK",
        "outputId": "227cfde2-f301-4b0c-8a48-c4516a20d196"
      },
      "source": [
        "import yaml\n",
        "import datetime \n",
        "\n",
        "\n",
        "def create_destination(hparams, datasets_root):\n",
        "    new_dir = f'{root_dir}/{datetime.datetime.now().strftime(\"%m-%d-%Y=%H-%M-%S\")}'\n",
        "    os.makedirs(new_dir)\n",
        "    with open(f'{new_dir}/signal_hparams.yaml', 'w') as outfile:\n",
        "        yaml.dump(hparams, outfile, default_flow_style=False)\n",
        "    return new_dir\n",
        "    \n",
        "destination_root = find_dataset_subdir(data_gen.signal_hparams, root_dir)\n",
        "if destination_root is None:\n",
        "    destination_root = create_destination(data_gen.signal_hparams, root_dir)\n",
        "print('Destination: ', destination_root)       "
      ],
      "execution_count": 5,
      "outputs": [
        {
          "output_type": "stream",
          "text": [
            "Destination:  ../../generated_datasets/05-20-2021=22-31-16\n"
          ],
          "name": "stdout"
        }
      ]
    },
    {
      "cell_type": "code",
      "metadata": {
        "colab": {
          "base_uri": "https://localhost:8080/"
        },
        "id": "BLOzSegx35aM",
        "outputId": "de503262-eca9-48ab-e67e-5cc828a683fe"
      },
      "source": [
        "data_gen.prepare_data()\n",
        "data_gen.setup()"
      ],
      "execution_count": 6,
      "outputs": [
        {
          "output_type": "stream",
          "text": [
            "Generating the dataset using Split-Step\n",
            "Dataset was generated in 11 sec\n"
          ],
          "name": "stdout"
        }
      ]
    },
    {
      "cell_type": "code",
      "metadata": {
        "id": "73_7x0z435aO"
      },
      "source": [
        "def save_tensor(tensor, subdir):\n",
        "    if tensor is None:\n",
        "        print('Nothing to save', subdir)\n",
        "        return\n",
        "    if tensor.numel() == 0:\n",
        "        return\n",
        "    i = 0\n",
        "    while os.path.exists(f\"{subdir}/{i}.pt\"):\n",
        "        i += 1\n",
        "    torch.save(tensor, f\"{subdir}/{i}.pt\")\n",
        "    \n",
        "type_subdirs = [destination_root + '/' + sub for sub in ['train', 'val', 'test']]\n",
        "for d in type_subdirs:\n",
        "    os.makedirs(d, exist_ok=True)\n",
        "    \n",
        "save_tensor(data_gen.train, type_subdirs[0])\n",
        "save_tensor(data_gen.val, type_subdirs[1])\n",
        "save_tensor(data_gen.test, type_subdirs[2])"
      ],
      "execution_count": 7,
      "outputs": []
    },
    {
      "cell_type": "code",
      "metadata": {
        "id": "0wNI63FC35aP"
      },
      "source": [
        "data_gen = SplitStepGenerator(batch_size=10,\n",
        "                          seq_len=33,\n",
        "                          dispersion=0.6,\n",
        "                          nonlinearity=0.02,\n",
        "                          pulse_width=10,\n",
        "                          z_end=120,\n",
        "                          dz=0.1,\n",
        "                          z_stride=1000,\n",
        "                          dim_t=2**12,\n",
        "                          dispersion_compensate=True,\n",
        "                          num_blocks = 16,\n",
        "                          two_dim_data=True,\n",
        "                          device='available',\n",
        "                          dataset_root_path=root_dir,\n",
        "                          )"
      ],
      "execution_count": 8,
      "outputs": []
    },
    {
      "cell_type": "code",
      "metadata": {
        "id": "O5QFChzz35aR"
      },
      "source": [
        "data_gen.prepare_data()"
      ],
      "execution_count": 9,
      "outputs": []
    },
    {
      "cell_type": "code",
      "metadata": {
        "colab": {
          "base_uri": "https://localhost:8080/"
        },
        "id": "-61e63j935aU",
        "outputId": "5db3b2b3-c88f-4cfe-ba8a-aa043a8d4e43"
      },
      "source": [
        "data_gen.train.shape, data_gen.val.shape, data_gen.test.shape"
      ],
      "execution_count": 10,
      "outputs": [
        {
          "output_type": "execute_result",
          "data": {
            "text/plain": [
              "(torch.Size([2, 10, 512, 16]),\n",
              " torch.Size([2, 10, 512, 16]),\n",
              " torch.Size([2, 10, 512, 16]))"
            ]
          },
          "metadata": {
            "tags": []
          },
          "execution_count": 10
        }
      ]
    },
    {
      "cell_type": "code",
      "metadata": {
        "id": "2-R6l01V35aV"
      },
      "source": [
        ""
      ],
      "execution_count": null,
      "outputs": []
    }
  ]
}