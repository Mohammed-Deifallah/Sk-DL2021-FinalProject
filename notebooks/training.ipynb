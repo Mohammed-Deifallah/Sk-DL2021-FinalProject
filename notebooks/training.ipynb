{
 "cells": [
  {
   "cell_type": "markdown",
   "metadata": {},
   "source": [
    "<a href=\"https://colab.research.google.com/github/laralex/Sk-DL2021-FinalProject/blob/main/notebooks/training.ipynb\" target=\"_parent\"><img src=\"https://colab.research.google.com/assets/colab-badge.svg\" alt=\"Open In Colab\"/></a>"
   ]
  },
  {
   "cell_type": "markdown",
   "metadata": {},
   "source": [
    "# Signal recovery from nonlinear distortion in optical communications\n",
    "Deep Learning 2021 course at Skoltech, Russia.\n",
    "\n",
    "The quickstart notebook:\n",
    "* reproduce the experiments from scratch\n",
    "* or resume training from a checkpoint\n",
    "* or loading of only model\n",
    "\n",
    "Suggested to use on Google Colab, but local Jupyter should work too even on CPU."
   ]
  },
  {
   "cell_type": "markdown",
   "metadata": {},
   "source": [
    "### ⚙️ Configure only there ⚙️"
   ]
  },
  {
   "cell_type": "code",
   "execution_count": 1,
   "metadata": {},
   "outputs": [],
   "source": [
    "import torch\n",
    "\n",
    "REPO_DOWNLOAD_DIR_NAME = 'DL2021-FinalProjectExperiments'\n",
    "CONFIG_PATH = 'configs/mnist.yaml' # relative to repository\n",
    "\n",
    "MOUNT_GOOGLE_DRIVE = False # can't mount on Windows\n",
    "GPUS_INDICES = 1 if torch.cuda.is_available() else None # None for CPU, list for multiple GPU\n",
    "\n",
    "GIT_BRANCH = 'main'\n",
    "GIT_PULL = True"
   ]
  },
  {
   "cell_type": "code",
   "execution_count": 2,
   "metadata": {},
   "outputs": [],
   "source": [
    "# checkpoint\n",
    "\n",
    "# source: id on Google Drive or path (relative to current dir or absolute)\n",
    "# (optional) type: id/path, default path\n",
    "# (optional) action: resume_training/load_model, default load_model\n",
    "# (optional) version: number from version_N folder which training you resume\n",
    "USE_CHECKPOINT = False\n",
    "CHECKPOINT = {\n",
    "    'source': '1_VZoPqrAeEyQksywBn2bQ59jKXFGO0d0', \n",
    "    'type': 'id', \n",
    "    'action': 'resume_training',\n",
    "    'version': 23,\n",
    "}"
   ]
  },
  {
   "cell_type": "markdown",
   "metadata": {},
   "source": [
    "### Destination of downloads (repository, logs, checkpoints)"
   ]
  },
  {
   "cell_type": "code",
   "execution_count": 3,
   "metadata": {},
   "outputs": [
    {
     "data": {
      "text/plain": [
       "'D:/masters/courses/4-deep-learning/project/repo'"
      ]
     },
     "execution_count": 3,
     "metadata": {},
     "output_type": "execute_result"
    }
   ],
   "source": [
    "import os\n",
    "import sys\n",
    "\n",
    "%reload_ext autoreload\n",
    "%autoreload 1\n",
    "\n",
    "git_root = !git rev-parse --show-toplevel\n",
    "already_in_repo = os.path.exists(git_root[0])\n",
    "\n",
    "if MOUNT_GOOGLE_DRIVE:\n",
    "    from google.colab import drive\n",
    "    drive.mount(f'./drive')\n",
    "    root_dir = f'./drive/MyDrive/{REPO_DOWNLOAD_DIR_NAME}'\n",
    "else:\n",
    "    if already_in_repo:\n",
    "        root_dir = git_root[0]\n",
    "    else:\n",
    "        root_dir = f'./{REPO_DOWNLOAD_DIR_NAME}'\n",
    "    \n",
    "root_dir"
   ]
  },
  {
   "cell_type": "markdown",
   "metadata": {},
   "source": [
    "### Downloads"
   ]
  },
  {
   "cell_type": "code",
   "execution_count": 4,
   "metadata": {
    "scrolled": true
   },
   "outputs": [
    {
     "name": "stdout",
     "output_type": "stream",
     "text": [
      "D:\\masters\\courses\\4-deep-learning\\project\\repo\n",
      "M\tnotebooks/training.ipynb\n",
      "M\ttrain.py\n",
      "Your branch is up to date with 'origin/main'.\n"
     ]
    },
    {
     "name": "stderr",
     "output_type": "stream",
     "text": [
      "Already on 'main'\n"
     ]
    },
    {
     "name": "stdout",
     "output_type": "stream",
     "text": [
      "Already up to date.\n",
      "D:\\masters\\courses\\4-deep-learning\\project\\repo\\notebooks\n",
      "popd -> D:\\masters\\courses\\4-deep-learning\\project\\repo\\notebooks\n"
     ]
    },
    {
     "name": "stderr",
     "output_type": "stream",
     "text": [
      "From https://github.com/laralex/Sk-DL2021-FinalProject\n",
      " * branch            main       -> FETCH_HEAD\n"
     ]
    }
   ],
   "source": [
    "if not already_in_repo:\n",
    "    !git clone https://github.com/laralex/Sk-DL2021-FinalProject $root_dir\n",
    "%pushd $root_dir \n",
    "!git checkout $GIT_BRANCH\n",
    "if GIT_PULL:\n",
    "    !git pull origin $GIT_BRANCH\n",
    "%popd\n",
    "\n",
    "try: \n",
    "    import pytorch_lightning\n",
    "    import jsonargparse\n",
    "except:\n",
    "    !pip install pytorch_lightning\n",
    "    !pip install jsonargparse\n",
    "\n",
    "if USE_CHECKPOINT and CHECKPOINT['type'] == 'id':\n",
    "    id = CHECKPOINT['source']\n",
    "    download_path = f\"{root_dir}/downloads/downloaded_checkpoint.ckpt\"\n",
    "    !gdown --id $id -O $download_path\n",
    "    CHECKPOINT['source'] = download_path\n",
    "\n",
    "sys.path.append(root_dir)"
   ]
  },
  {
   "cell_type": "markdown",
   "metadata": {},
   "source": [
    "### TensorBoard logs"
   ]
  },
  {
   "cell_type": "code",
   "execution_count": 5,
   "metadata": {},
   "outputs": [
    {
     "data": {
      "text/plain": [
       "Reusing TensorBoard on port 6006 (pid 7888), started 1:54:15 ago. (Use '!kill 7888' to kill it.)"
      ]
     },
     "metadata": {},
     "output_type": "display_data"
    },
    {
     "data": {
      "text/html": [
       "\n",
       "      <iframe id=\"tensorboard-frame-e3dfbf455e89a6a3\" width=\"100%\" height=\"800\" frameborder=\"0\">\n",
       "      </iframe>\n",
       "      <script>\n",
       "        (function() {\n",
       "          const frame = document.getElementById(\"tensorboard-frame-e3dfbf455e89a6a3\");\n",
       "          const url = new URL(\"/\", window.location);\n",
       "          const port = 6006;\n",
       "          if (port) {\n",
       "            url.port = port;\n",
       "          }\n",
       "          frame.src = url;\n",
       "        })();\n",
       "      </script>\n",
       "    "
      ],
      "text/plain": [
       "<IPython.core.display.HTML object>"
      ]
     },
     "metadata": {},
     "output_type": "display_data"
    }
   ],
   "source": [
    "%load_ext tensorboard\n",
    "%tensorboard --logdir $root_dir/logs"
   ]
  },
  {
   "cell_type": "markdown",
   "metadata": {},
   "source": [
    "### Launch training"
   ]
  },
  {
   "cell_type": "code",
   "execution_count": 6,
   "metadata": {},
   "outputs": [
    {
     "name": "stderr",
     "output_type": "stream",
     "text": [
      "Global seed set to 42\n",
      "GPU available: False, used: False\n",
      "TPU available: False, using: 0 TPU cores\n",
      "\n",
      "  | Name           | Type          | Params\n",
      "-------------------------------------------------\n",
      "0 | net            | SimpleConvNet | 1.2 M \n",
      "1 | criterion      | NLLLoss       | 0     \n",
      "2 | train_accuracy | Accuracy      | 0     \n",
      "3 | val_accuracy   | Accuracy      | 0     \n",
      "-------------------------------------------------\n",
      "1.2 M     Trainable params\n",
      "0         Non-trainable params\n",
      "1.2 M     Total params\n",
      "4.800     Total estimated model params size (MB)\n"
     ]
    },
    {
     "data": {
      "application/vnd.jupyter.widget-view+json": {
       "model_id": "",
       "version_major": 2,
       "version_minor": 0
      },
      "text/plain": [
       "Validation sanity check: 0it [00:00, ?it/s]"
      ]
     },
     "metadata": {},
     "output_type": "display_data"
    },
    {
     "name": "stderr",
     "output_type": "stream",
     "text": [
      "Global seed set to 42\n"
     ]
    },
    {
     "data": {
      "application/vnd.jupyter.widget-view+json": {
       "model_id": "d8ce758784f94360a06c792b81d02e59",
       "version_major": 2,
       "version_minor": 0
      },
      "text/plain": [
       "Training: 0it [00:00, ?it/s]"
      ]
     },
     "metadata": {},
     "output_type": "display_data"
    },
    {
     "name": "stderr",
     "output_type": "stream",
     "text": [
      "D:\\scoopapps\\apps\\miniconda3\\current\\envs\\torch\\lib\\site-packages\\pytorch_lightning\\utilities\\distributed.py:69: UserWarning: Detected KeyboardInterrupt, attempting graceful shutdown...\n",
      "  warnings.warn(*args, **kwargs)\n"
     ]
    }
   ],
   "source": [
    "%aimport train\n",
    "model = train.main(\n",
    "        root_dir = root_dir,\n",
    "        config_path = root_dir + '/' + CONFIG_PATH, \n",
    "        gpu_indices = GPUS_INDICES,\n",
    "        checkpoint_kwargs = CHECKPOINT if USE_CHECKPOINT else None)"
   ]
  },
  {
   "cell_type": "code",
   "execution_count": 8,
   "metadata": {},
   "outputs": [
    {
     "name": "stderr",
     "output_type": "stream",
     "text": [
      "'cwd' is not recognized as an internal or external command,\n",
      "operable program or batch file.\n"
     ]
    }
   ],
   "source": [
    "!pw"
   ]
  },
  {
   "cell_type": "code",
   "execution_count": null,
   "metadata": {},
   "outputs": [],
   "source": []
  }
 ],
 "metadata": {
  "kernelspec": {
   "display_name": "Python 3",
   "language": "python",
   "name": "python3"
  },
  "language_info": {
   "codemirror_mode": {
    "name": "ipython",
    "version": 3
   },
   "file_extension": ".py",
   "mimetype": "text/x-python",
   "name": "python",
   "nbconvert_exporter": "python",
   "pygments_lexer": "ipython3",
   "version": "3.8.8"
  }
 },
 "nbformat": 4,
 "nbformat_minor": 4
}
