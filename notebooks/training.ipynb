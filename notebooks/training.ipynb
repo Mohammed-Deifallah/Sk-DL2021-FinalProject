{
 "cells": [
  {
   "cell_type": "markdown",
   "metadata": {},
   "source": [
    "<a href=\"https://colab.research.google.com/github/laralex/Sk-DL2021-FinalProject/blob/main/notebooks/training.ipynb\" target=\"_parent\"><img src=\"https://colab.research.google.com/assets/colab-badge.svg\" alt=\"Open In Colab\"/></a>"
   ]
  },
  {
   "cell_type": "markdown",
   "metadata": {},
   "source": [
    "# Signal recovery from nonlinear distortion in optical communications\n",
    "Deep Learning 2021 course at Skoltech, Russia.\n",
    "\n",
    "A quickstart notebook to reproduce the experiments. Suggested to use on Google Colab."
   ]
  },
  {
   "cell_type": "markdown",
   "metadata": {},
   "source": [
    "<h3><span style=\"color:blue;\">Configure only there</span></h3>"
   ]
  },
  {
   "cell_type": "code",
   "execution_count": null,
   "metadata": {},
   "outputs": [],
   "source": [
    "MAIN_DIR_NAME = 'SignalRecoveryExperiments'\n",
    "CONFIG_PATH = 'configs/mnist.yaml'\n",
    "\n",
    "ON_GOOGLE_COLAB = True\n",
    "MOUNT_GOOGLE_DRIVE = True # can't mount on Windows\n",
    "GPUS_INDICES = [0] # None for CPU, list for multiple GPU\n",
    "\n",
    "GIT_BRANCH = 'main'\n",
    "GIT_PULL = True"
   ]
  },
  {
   "cell_type": "markdown",
   "metadata": {},
   "source": [
    "### Destination of the experimental results (logs, checkpoints)"
   ]
  },
  {
   "cell_type": "code",
   "execution_count": null,
   "metadata": {},
   "outputs": [],
   "source": [
    "current_dir = '/content' if ON_GOOGLE_COLAB else '.'\n",
    "if MOUNT_GOOGLE_DRIVE:\n",
    "    from google.colab import drive\n",
    "    drive.mount(f'{current_dir}/drive')\n",
    "    root_dir = f'{current_dir}/drive/MyDrive/{MAIN_DIR_NAME}'\n",
    "else:\n",
    "    root_dir = f'{current_dir}/{MAIN_DIR_NAME}'"
   ]
  },
  {
   "cell_type": "markdown",
   "metadata": {},
   "source": [
    "### Our repository and prerequisites"
   ]
  },
  {
   "cell_type": "code",
   "execution_count": null,
   "metadata": {
    "scrolled": true
   },
   "outputs": [],
   "source": [
    "!git clone https://github.com/laralex/Sk-DL2021-FinalProject $root_dir\n",
    "%cd $root_dir\n",
    "!git checkout $GIT_BRANCH\n",
    "!pip install pytorch_lightning\n",
    "!pip install jsonargparse\n",
    "\n",
    "import os\n",
    "import sys\n",
    "sys.path.append(root_dir)"
   ]
  },
  {
   "cell_type": "markdown",
   "metadata": {},
   "source": [
    "### TensorBoard logs"
   ]
  },
  {
   "cell_type": "code",
   "execution_count": null,
   "metadata": {},
   "outputs": [],
   "source": [
    "%load_ext tensorboard\n",
    "%tensorboard --logdir $root_dir/logs"
   ]
  },
  {
   "cell_type": "markdown",
   "metadata": {},
   "source": [
    "### Launch training"
   ]
  },
  {
   "cell_type": "code",
   "execution_count": null,
   "metadata": {},
   "outputs": [],
   "source": [
    "# useful for contributors\n",
    "if GIT_PULL:\n",
    "    !git pull origin $GIT_BRANCH"
   ]
  },
  {
   "cell_type": "code",
   "execution_count": null,
   "metadata": {},
   "outputs": [],
   "source": [
    "%load_ext autoreload\n",
    "%autoreload 1\n",
    "\n",
    "%aimport train"
   ]
  },
  {
   "cell_type": "code",
   "execution_count": null,
   "metadata": {},
   "outputs": [],
   "source": [
    "train.main(\n",
    "    root_dir = root_dir,\n",
    "    config_path = f\"{root_dir}/{CONFIG_PATH}\", \n",
    "    gpu_indices = GPUS_INDICES)"
   ]
  }
 ],
 "metadata": {
  "kernelspec": {
   "display_name": "Python 3",
   "language": "python",
   "name": "python3"
  },
  "language_info": {
   "codemirror_mode": {
    "name": "ipython",
    "version": 3
   },
   "file_extension": ".py",
   "mimetype": "text/x-python",
   "name": "python",
   "nbconvert_exporter": "python",
   "pygments_lexer": "ipython3",
   "version": "3.8.8"
  }
 },
 "nbformat": 4,
 "nbformat_minor": 4
}