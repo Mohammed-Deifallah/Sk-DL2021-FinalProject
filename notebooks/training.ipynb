{
 "cells": [
  {
   "cell_type": "markdown",
   "metadata": {
    "id": "u9vo6Wn4X_d7"
   },
   "source": [
    "<a href=\"https://colab.research.google.com/github/laralex/Sk-DL2021-FinalProject/blob/main/notebooks/training.ipynb\" target=\"_parent\"><img src=\"https://colab.research.google.com/assets/colab-badge.svg\" alt=\"Open In Colab\"/></a>"
   ]
  },
  {
   "cell_type": "markdown",
   "metadata": {
    "id": "Ob4Rn1VOX_d9"
   },
   "source": [
    "# Signal recovery from nonlinear distortion in optical communications\n",
    "Deep Learning 2021 course at Skoltech, Russia.\n",
    "\n",
    "The quickstart notebook:\n",
    "* reproduce the experiments from scratch\n",
    "* or resume training from a checkpoint\n",
    "* or loading of only model\n",
    "\n",
    "Suggested to use on Google Colab, but local Jupyter should work too even on CPU."
   ]
  },
  {
   "cell_type": "markdown",
   "metadata": {
    "id": "f0OzGO95X_d_"
   },
   "source": [
    "### ⚙️ Configure only there ⚙️"
   ]
  },
  {
   "cell_type": "code",
   "execution_count": null,
   "metadata": {
    "id": "ndbJDmkkX_eA"
   },
   "outputs": [],
   "source": [
    "import torch\n",
    "\n",
    "REPO_DOWNLOAD_DIR_NAME = 'DL2021-FinalProjectExperiments'\n",
    "CONFIG_PATH = 'configs/GetDatasetFromGeneration.yaml' # relative to repository\n",
    "\n",
    "ON_COLAB = True\n",
    "MOUNT_GOOGLE_DRIVE = False # can't mount on Windows\n",
    "GPUS_INDICES = 1 if torch.cuda.is_available() else None # None for CPU, list for multiple GPU\n",
    "GOOGLE_DRIVE_DATASETS_PATH = 'Sk-DL2021-Datasets/' # relative to google drive\n",
    "\n",
    "GIT_BRANCH = 'generation-rework'\n",
    "GIT_PULL = True"
   ]
  },
  {
   "cell_type": "code",
   "execution_count": null,
   "metadata": {
    "id": "-_n9dNhIX_eC"
   },
   "outputs": [],
   "source": [
    "# checkpoint\n",
    "\n",
    "# source: id on Google Drive or path (relative to current dir or absolute)\n",
    "# (optional) type: id/path, default path\n",
    "# (optional) action: resume_training/load_model, default load_model\n",
    "# (optional) version: number from version_N folder which training you resume\n",
    "USE_CHECKPOINT = False\n",
    "CHECKPOINT = {\n",
    "    'source': '1_VZoPqrAeEyQksywBn2bQ59jKXFGO0d0', \n",
    "    'type': 'id', \n",
    "    'action': 'resume_training',\n",
    "    'version': 23,\n",
    "}"
   ]
  },
  {
   "cell_type": "markdown",
   "metadata": {
    "id": "fbKmtKGCX_eE"
   },
   "source": [
    "### Destination of downloads (repository, logs, checkpoints)"
   ]
  },
  {
   "cell_type": "code",
   "execution_count": null,
   "metadata": {
    "id": "8WepcDfsX_eG"
   },
   "outputs": [],
   "source": [
    "import os\n",
    "import sys\n",
    "from pathlib import Path\n",
    "%reload_ext autoreload\n",
    "%autoreload 1\n",
    "\n",
    "git_root = !git rev-parse --show-toplevel\n",
    "already_in_repo = os.path.exists(git_root[0])\n",
    "current_dir = '/content' if ON_COLAB else '.'\n",
    "\n",
    "if MOUNT_GOOGLE_DRIVE:\n",
    "    from google.colab import drive\n",
    "    drive.mount(f'{current_dir}/drive')\n",
    "    repo_dir = f'{current_dir}/{REPO_DOWNLOAD_DIR_NAME}'\n",
    "    root_dir = f'{current_dir}/drive/MyDrive/{REPO_DOWNLOAD_DIR_NAME}'\n",
    "    datasets_dir = f'{current_dir}/drive/MyDrive/{GOOGLE_DRIVE_DATASETS_PATH}'\n",
    "else:\n",
    "    if already_in_repo:\n",
    "        root_dir = git_root[0]\n",
    "    else:\n",
    "        root_dir = f'{current_dir}/{REPO_DOWNLOAD_DIR_NAME}'\n",
    "    repo_dir = root_dir\n",
    "    datasets_dir = None\n",
    "print('Repo:', repo_dir)\n",
    "print('Logs:', root_dir)\n",
    "print('Pregenerated dataset:', datasets_dir)"
   ]
  },
  {
   "cell_type": "markdown",
   "metadata": {
    "id": "blg9jn9xX_eH"
   },
   "source": [
    "### Downloads"
   ]
  },
  {
   "cell_type": "code",
   "execution_count": null,
   "metadata": {
    "id": "ZDIMweWyX_eK",
    "scrolled": true
   },
   "outputs": [],
   "source": [
    "if not already_in_repo:\n",
    "    !git clone https://github.com/laralex/Sk-DL2021-FinalProject $repo_dir\n",
    "%pushd $repo_dir \n",
    "!git checkout $GIT_BRANCH\n",
    "if GIT_PULL:\n",
    "    !git pull origin $GIT_BRANCH\n",
    "%popd\n",
    "\n",
    "try: \n",
    "    import pytorch_lightning\n",
    "    import jsonargparse\n",
    "except:\n",
    "    !pip install pytorch_lightning\n",
    "    !pip install jsonargparse\n",
    "\n",
    "if USE_CHECKPOINT and CHECKPOINT['type'] == 'id':\n",
    "    id = CHECKPOINT['source']\n",
    "    download_path = f\"{repo_dir}/downloads/downloaded_checkpoint.ckpt\"\n",
    "    !gdown --id $id -O $download_path\n",
    "    CHECKPOINT['source'] = download_path\n",
    "\n",
    "sys.path.append(root_dir)"
   ]
  },
  {
   "cell_type": "markdown",
   "metadata": {
    "id": "uC77K-_YX_eM"
   },
   "source": [
    "### TensorBoard logs"
   ]
  },
  {
   "cell_type": "code",
   "execution_count": null,
   "metadata": {
    "id": "n0SxQvWDX_eM"
   },
   "outputs": [],
   "source": [
    "%load_ext tensorboard\n",
    "%tensorboard --logdir $root_dir/logs"
   ]
  },
  {
   "cell_type": "markdown",
   "metadata": {
    "id": "w05lo2aSX_eO"
   },
   "source": [
    "### Launch training"
   ]
  },
  {
   "cell_type": "code",
   "execution_count": null,
   "metadata": {
    "id": "-yUVgM0EX_eP"
   },
   "outputs": [],
   "source": [
    "%aimport train\n",
    "model = train.main(\n",
    "        root_dir = root_dir,\n",
    "        config_path = repo_dir + '/' + CONFIG_PATH, \n",
    "        gpu_indices = GPUS_INDICES,\n",
    "        dataset_root_path = datasets_dir,\n",
    "        checkpoint_kwargs = CHECKPOINT if USE_CHECKPOINT else None)"
   ]
  },
  {
   "cell_type": "code",
   "execution_count": null,
   "metadata": {
    "id": "l_ibawI8X_eQ"
   },
   "outputs": [],
   "source": []
  }
 ],
 "metadata": {
  "colab": {
   "collapsed_sections": [],
   "name": "training.ipynb",
   "provenance": [],
   "toc_visible": true
  },
  "kernelspec": {
   "display_name": "Python 3",
   "language": "python",
   "name": "python3"
  },
  "language_info": {
   "codemirror_mode": {
    "name": "ipython",
    "version": 3
   },
   "file_extension": ".py",
   "mimetype": "text/x-python",
   "name": "python",
   "nbconvert_exporter": "python",
   "pygments_lexer": "ipython3",
   "version": "3.8.8"
  }
 },
 "nbformat": 4,
 "nbformat_minor": 1
}
