{
 "cells": [
  {
   "cell_type": "markdown",
   "metadata": {},
   "source": [
    "<a href=\"https://colab.research.google.com/github/laralex/Sk-DL2021-FinalProject/blob/main/notebooks/training.ipynb\" target=\"_parent\"><img src=\"https://colab.research.google.com/assets/colab-badge.svg\" alt=\"Open In Colab\"/></a>"
   ]
  },
  {
   "cell_type": "markdown",
   "metadata": {},
   "source": [
    "# Signal recovery from nonlinear distortion in optical communications\n",
    "Deep Learning 2021 course at Skoltech, Russia.\n",
    "\n",
    "A quickstart notebook to reproduce the experiments. Suggested to use on Google Colab."
   ]
  },
  {
   "cell_type": "markdown",
   "metadata": {},
   "source": [
    "<h3><span style=\"color:blue;\">Configure only there</span></h3>"
   ]
  },
  {
   "cell_type": "code",
   "execution_count": null,
   "metadata": {},
   "outputs": [],
   "source": [
    "import torch\n",
    "\n",
    "CONFIG_PATH = 'configs/mnist.yaml'\n",
    "REPO_DOWNLOAD_DIR_NAME = 'DL2021-FinalProjectExperiments'\n",
    "\n",
    "ON_GOOGLE_COLAB = True\n",
    "MOUNT_GOOGLE_DRIVE = False # can't mount on Windows\n",
    "GPUS_INDICES = 1 if torch.cuda.is_available() else None # None for CPU, list for multiple GPU\n",
    "\n",
    "GIT_BRANCH = 'configs'\n",
    "GIT_PULL = True"
   ]
  },
  {
   "cell_type": "markdown",
   "metadata": {},
   "source": [
    "### Destination of the experimental results (logs, checkpoints)"
   ]
  },
  {
   "cell_type": "code",
   "execution_count": null,
   "metadata": {},
   "outputs": [],
   "source": [
    "import os\n",
    "import sys\n",
    "\n",
    "if MOUNT_GOOGLE_DRIVE:\n",
    "    from google.colab import drive\n",
    "    current_dir = '/content' if ON_GOOGLE_COLAB else '.'\n",
    "    drive.mount(f'{current_dir}/drive')\n",
    "    root_dir = f'{current_dir}/drive/MyDrive/{REPO_DOWNLOAD_DIR_NAME}'\n",
    "\n",
    "else:\n",
    "    git_root = !git rev-parse --show-toplevel\n",
    "    already_in_repo = os.path.exists(git_root[0])\n",
    "    if already_in_repo:\n",
    "        root_dir = git_root[0]\n",
    "    else:\n",
    "        root_dir = './' + REPO_DOWNLOAD_DIR_NAME\n",
    "    \n",
    "root_dir"
   ]
  },
  {
   "cell_type": "markdown",
   "metadata": {},
   "source": [
    "### Our repository and prerequisites"
   ]
  },
  {
   "cell_type": "code",
   "execution_count": null,
   "metadata": {
    "scrolled": true
   },
   "outputs": [],
   "source": [
    "if not already_in_repo:\n",
    "    !git clone https://github.com/laralex/Sk-DL2021-FinalProject $root_dir\n",
    "%cd $root_dir \n",
    "!git checkout $GIT_BRANCH\n",
    "\n",
    "try: \n",
    "    import pytorch_lightning\n",
    "    import jsonargparse\n",
    "except:\n",
    "    !pip install pytorch_lightning\n",
    "    !pip install jsonargparse\n",
    "\n",
    "sys.path.append(root_dir)"
   ]
  },
  {
   "cell_type": "markdown",
   "metadata": {},
   "source": [
    "### TensorBoard logs"
   ]
  },
  {
   "cell_type": "code",
   "execution_count": null,
   "metadata": {},
   "outputs": [],
   "source": [
    "%load_ext tensorboard\n",
    "%tensorboard --logdir $root_dir/logs"
   ]
  },
  {
   "cell_type": "markdown",
   "metadata": {},
   "source": [
    "### Launch training"
   ]
  },
  {
   "cell_type": "code",
   "execution_count": null,
   "metadata": {},
   "outputs": [],
   "source": [
    "# useful for contributors\n",
    "if GIT_PULL:\n",
    "    !git pull origin $GIT_BRANCH\n",
    "\n",
    "%reload_ext autoreload\n",
    "%autoreload 1\n",
    "\n",
    "%aimport train"
   ]
  },
  {
   "cell_type": "code",
   "execution_count": null,
   "metadata": {},
   "outputs": [],
   "source": [
    "train.main(\n",
    "    root_dir = root_dir,\n",
    "    config_path = CONFIG_PATH, \n",
    "    gpu_indices = GPUS_INDICES)"
   ]
  }
 ],
 "metadata": {
  "kernelspec": {
   "display_name": "Python 3",
   "language": "python",
   "name": "python3"
  },
  "language_info": {
   "codemirror_mode": {
    "name": "ipython",
    "version": 3
   },
   "file_extension": ".py",
   "mimetype": "text/x-python",
   "name": "python",
   "nbconvert_exporter": "python",
   "pygments_lexer": "ipython3",
   "version": "3.8.8"
  }
 },
 "nbformat": 4,
 "nbformat_minor": 4
}
