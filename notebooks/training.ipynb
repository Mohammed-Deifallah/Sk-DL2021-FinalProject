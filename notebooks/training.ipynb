{
 "cells": [
  {
   "cell_type": "markdown",
   "metadata": {},
   "source": [
    "<a href=\"https://colab.research.google.com/github/laralex/Sk-DL2021-FinalProject/blob/main/notebooks/training.ipynb\" target=\"_parent\"><img src=\"https://colab.research.google.com/assets/colab-badge.svg\" alt=\"Open In Colab\"/></a>"
   ]
  },
  {
   "cell_type": "markdown",
   "metadata": {},
   "source": [
    "# Signal recovery from nonlinear distortion in optical communications\n",
    "Deep Learning 2021 course at Skoltech, Russia.\n",
    "\n",
    "A quickstart notebook to reproduce the experiments. Suggested to use on Google Colab."
   ]
  },
  {
   "cell_type": "markdown",
   "metadata": {},
   "source": [
    "<h3><span style=\"color:blue;\">Configure only there</span></h3>"
   ]
  },
  {
   "cell_type": "code",
   "execution_count": 1,
   "metadata": {},
   "outputs": [],
   "source": [
    "CONFIG_PATH = 'configs/mnist.yaml'\n",
    "\n",
    "ON_GOOGLE_COLAB = False\n",
    "MOUNT_GOOGLE_DRIVE = False # can't mount on Windows\n",
    "GPUS_INDICES = None # None for CPU, list for multiple GPU\n",
    "\n",
    "GIT_BRANCH = 'configs'\n",
    "GIT_PULL = True"
   ]
  },
  {
   "cell_type": "markdown",
   "metadata": {},
   "source": [
    "### Destination of the experimental results (logs, checkpoints)"
   ]
  },
  {
   "cell_type": "code",
   "execution_count": 2,
   "metadata": {},
   "outputs": [
    {
     "name": "stdout",
     "output_type": "stream",
     "text": [
      "D:\\masters\\courses\\4-deep-learning\\project\\repo\\notebooks\n"
     ]
    },
    {
     "data": {
      "text/plain": [
       "'D:/masters/courses/4-deep-learning/project/repo'"
      ]
     },
     "execution_count": 2,
     "metadata": {},
     "output_type": "execute_result"
    }
   ],
   "source": [
    "import os\n",
    "import sys\n",
    "\n",
    "if MOUNT_GOOGLE_DRIVE:\n",
    "    from google.colab import drive\n",
    "    current_dir = '/content' if ON_GOOGLE_COLAB else '.'\n",
    "    drive.mount(f'{current_dir}/drive')\n",
    "    root_dir = f'{current_dir}/drive/MyDrive/DL2021_SignalRecoveryExperiments'\n",
    "else:\n",
    "    root_dir = '.'\n",
    "\n",
    "%cd $root_dir \n",
    "git_root = !git rev-parse --show-toplevel\n",
    "already_in_repo = os.path.exists(git_root[0])\n",
    "if already_in_repo:\n",
    "    root_dir = git_root[0]\n",
    "    \n",
    "root_dir"
   ]
  },
  {
   "cell_type": "markdown",
   "metadata": {},
   "source": [
    "### Our repository and prerequisites"
   ]
  },
  {
   "cell_type": "code",
   "execution_count": 3,
   "metadata": {
    "scrolled": true
   },
   "outputs": [
    {
     "name": "stdout",
     "output_type": "stream",
     "text": [
      "M\tREADME.md\n",
      "M\tconfigs/mnist.yaml\n",
      "M\tmodels/mnist_classifier.py\n",
      "M\tnotebooks/training.ipynb\n"
     ]
    },
    {
     "name": "stderr",
     "output_type": "stream",
     "text": [
      "Already on 'configs'\n"
     ]
    },
    {
     "name": "stdout",
     "output_type": "stream",
     "text": [
      "Requirement already satisfied: pytorch_lightning in d:\\scoopapps\\persist\\miniconda3\\envs\\torch\\lib\\site-packages (1.3.1)\n",
      "Requirement already satisfied: packaging in d:\\scoopapps\\persist\\miniconda3\\envs\\torch\\lib\\site-packages (from pytorch_lightning) (20.4)\n",
      "Requirement already satisfied: pyDeprecate==0.3.0 in d:\\scoopapps\\persist\\miniconda3\\envs\\torch\\lib\\site-packages (from pytorch_lightning) (0.3.0)\n",
      "Requirement already satisfied: future>=0.17.1 in d:\\scoopapps\\persist\\miniconda3\\envs\\torch\\lib\\site-packages (from pytorch_lightning) (0.18.2)\n",
      "Requirement already satisfied: torchmetrics>=0.2.0 in d:\\scoopapps\\persist\\miniconda3\\envs\\torch\\lib\\site-packages (from pytorch_lightning) (0.3.2)\n",
      "Requirement already satisfied: numpy>=1.17.2 in d:\\scoopapps\\persist\\miniconda3\\envs\\torch\\lib\\site-packages (from pytorch_lightning) (1.19.2)\n",
      "Requirement already satisfied: torch>=1.4 in d:\\scoopapps\\persist\\miniconda3\\envs\\torch\\lib\\site-packages (from pytorch_lightning) (1.8.0)\n",
      "Requirement already satisfied: PyYAML<=5.4.1,>=5.1 in d:\\scoopapps\\persist\\miniconda3\\envs\\torch\\lib\\site-packages (from pytorch_lightning) (5.3.1)\n",
      "Requirement already satisfied: fsspec[http]>=2021.4.0 in d:\\scoopapps\\persist\\miniconda3\\envs\\torch\\lib\\site-packages (from pytorch_lightning) (2021.5.0)\n",
      "Requirement already satisfied: tensorboard!=2.5.0,>=2.2.0 in d:\\scoopapps\\persist\\miniconda3\\envs\\torch\\lib\\site-packages (from pytorch_lightning) (2.4.1)\n",
      "Requirement already satisfied: tqdm>=4.41.0 in d:\\scoopapps\\persist\\miniconda3\\envs\\torch\\lib\\site-packages (from pytorch_lightning) (4.59.0)\n",
      "Requirement already satisfied: aiohttp in d:\\scoopapps\\persist\\miniconda3\\envs\\torch\\lib\\site-packages (from fsspec[http]>=2021.4.0->pytorch_lightning) (3.7.4.post0)\n",
      "Requirement already satisfied: requests in d:\\scoopapps\\persist\\miniconda3\\envs\\torch\\lib\\site-packages (from fsspec[http]>=2021.4.0->pytorch_lightning) (2.25.1)\n",
      "Requirement already satisfied: six>=1.10.0 in d:\\scoopapps\\persist\\miniconda3\\envs\\torch\\lib\\site-packages (from tensorboard!=2.5.0,>=2.2.0->pytorch_lightning) (1.15.0)\n",
      "Requirement already satisfied: setuptools>=41.0.0 in d:\\scoopapps\\persist\\miniconda3\\envs\\torch\\lib\\site-packages (from tensorboard!=2.5.0,>=2.2.0->pytorch_lightning) (52.0.0.post20210125)\n",
      "Requirement already satisfied: google-auth-oauthlib<0.5,>=0.4.1 in d:\\scoopapps\\persist\\miniconda3\\envs\\torch\\lib\\site-packages (from tensorboard!=2.5.0,>=2.2.0->pytorch_lightning) (0.4.4)\n",
      "Requirement already satisfied: werkzeug>=0.11.15 in d:\\scoopapps\\persist\\miniconda3\\envs\\torch\\lib\\site-packages (from tensorboard!=2.5.0,>=2.2.0->pytorch_lightning) (1.0.1)\n",
      "Requirement already satisfied: protobuf>=3.6.0 in d:\\scoopapps\\persist\\miniconda3\\envs\\torch\\lib\\site-packages (from tensorboard!=2.5.0,>=2.2.0->pytorch_lightning) (3.14.0)\n",
      "Requirement already satisfied: grpcio>=1.24.3 in d:\\scoopapps\\persist\\miniconda3\\envs\\torch\\lib\\site-packages (from tensorboard!=2.5.0,>=2.2.0->pytorch_lightning) (1.36.1)\n",
      "Requirement already satisfied: markdown>=2.6.8 in d:\\scoopapps\\persist\\miniconda3\\envs\\torch\\lib\\site-packages (from tensorboard!=2.5.0,>=2.2.0->pytorch_lightning) (3.3.4)\n",
      "Requirement already satisfied: tensorboard-plugin-wit>=1.6.0 in d:\\scoopapps\\persist\\miniconda3\\envs\\torch\\lib\\site-packages (from tensorboard!=2.5.0,>=2.2.0->pytorch_lightning) (1.8.0)\n",
      "Requirement already satisfied: wheel>=0.26 in d:\\scoopapps\\persist\\miniconda3\\envs\\torch\\lib\\site-packages (from tensorboard!=2.5.0,>=2.2.0->pytorch_lightning) (0.36.2)\n",
      "Requirement already satisfied: absl-py>=0.4 in d:\\scoopapps\\persist\\miniconda3\\envs\\torch\\lib\\site-packages (from tensorboard!=2.5.0,>=2.2.0->pytorch_lightning) (0.12.0)\n",
      "Requirement already satisfied: google-auth<2,>=1.6.3 in d:\\scoopapps\\persist\\miniconda3\\envs\\torch\\lib\\site-packages (from tensorboard!=2.5.0,>=2.2.0->pytorch_lightning) (1.30.0)\n",
      "Requirement already satisfied: cachetools<5.0,>=2.0.0 in d:\\scoopapps\\persist\\miniconda3\\envs\\torch\\lib\\site-packages (from google-auth<2,>=1.6.3->tensorboard!=2.5.0,>=2.2.0->pytorch_lightning) (4.2.2)\n",
      "Requirement already satisfied: rsa<5,>=3.1.4 in d:\\scoopapps\\persist\\miniconda3\\envs\\torch\\lib\\site-packages (from google-auth<2,>=1.6.3->tensorboard!=2.5.0,>=2.2.0->pytorch_lightning) (4.7.2)\n",
      "Requirement already satisfied: pyasn1-modules>=0.2.1 in d:\\scoopapps\\persist\\miniconda3\\envs\\torch\\lib\\site-packages (from google-auth<2,>=1.6.3->tensorboard!=2.5.0,>=2.2.0->pytorch_lightning) (0.2.8)\n",
      "Requirement already satisfied: requests-oauthlib>=0.7.0 in d:\\scoopapps\\persist\\miniconda3\\envs\\torch\\lib\\site-packages (from google-auth-oauthlib<0.5,>=0.4.1->tensorboard!=2.5.0,>=2.2.0->pytorch_lightning) (1.3.0)\n",
      "Requirement already satisfied: pyasn1<0.5.0,>=0.4.6 in d:\\scoopapps\\persist\\miniconda3\\envs\\torch\\lib\\site-packages (from pyasn1-modules>=0.2.1->google-auth<2,>=1.6.3->tensorboard!=2.5.0,>=2.2.0->pytorch_lightning) (0.4.8)\n",
      "Requirement already satisfied: idna<3,>=2.5 in d:\\scoopapps\\persist\\miniconda3\\envs\\torch\\lib\\site-packages (from requests->fsspec[http]>=2021.4.0->pytorch_lightning) (2.10)\n",
      "Requirement already satisfied: certifi>=2017.4.17 in d:\\scoopapps\\persist\\miniconda3\\envs\\torch\\lib\\site-packages (from requests->fsspec[http]>=2021.4.0->pytorch_lightning) (2020.12.5)\n",
      "Requirement already satisfied: chardet<5,>=3.0.2 in d:\\scoopapps\\persist\\miniconda3\\envs\\torch\\lib\\site-packages (from requests->fsspec[http]>=2021.4.0->pytorch_lightning) (4.0.0)\n",
      "Requirement already satisfied: urllib3<1.27,>=1.21.1 in d:\\scoopapps\\persist\\miniconda3\\envs\\torch\\lib\\site-packages (from requests->fsspec[http]>=2021.4.0->pytorch_lightning) (1.26.4)\n",
      "Requirement already satisfied: oauthlib>=3.0.0 in d:\\scoopapps\\persist\\miniconda3\\envs\\torch\\lib\\site-packages (from requests-oauthlib>=0.7.0->google-auth-oauthlib<0.5,>=0.4.1->tensorboard!=2.5.0,>=2.2.0->pytorch_lightning) (3.1.0)\n",
      "Requirement already satisfied: typing_extensions in d:\\scoopapps\\persist\\miniconda3\\envs\\torch\\lib\\site-packages (from torch>=1.4->pytorch_lightning) (3.7.4.3)\n",
      "Requirement already satisfied: multidict<7.0,>=4.5 in d:\\scoopapps\\persist\\miniconda3\\envs\\torch\\lib\\site-packages (from aiohttp->fsspec[http]>=2021.4.0->pytorch_lightning) (5.1.0)\n",
      "Requirement already satisfied: attrs>=17.3.0 in d:\\scoopapps\\persist\\miniconda3\\envs\\torch\\lib\\site-packages (from aiohttp->fsspec[http]>=2021.4.0->pytorch_lightning) (20.2.0)\n",
      "Requirement already satisfied: async-timeout<4.0,>=3.0 in d:\\scoopapps\\persist\\miniconda3\\envs\\torch\\lib\\site-packages (from aiohttp->fsspec[http]>=2021.4.0->pytorch_lightning) (3.0.1)\n",
      "Requirement already satisfied: yarl<2.0,>=1.0 in d:\\scoopapps\\persist\\miniconda3\\envs\\torch\\lib\\site-packages (from aiohttp->fsspec[http]>=2021.4.0->pytorch_lightning) (1.6.3)\n",
      "Requirement already satisfied: pyparsing>=2.0.2 in d:\\scoopapps\\persist\\miniconda3\\envs\\torch\\lib\\site-packages (from packaging->pytorch_lightning) (2.4.7)\n",
      "Requirement already satisfied: jsonargparse in d:\\scoopapps\\persist\\miniconda3\\envs\\torch\\lib\\site-packages (3.12.0)\n",
      "Requirement already satisfied: PyYAML>=3.13 in d:\\scoopapps\\persist\\miniconda3\\envs\\torch\\lib\\site-packages (from jsonargparse) (5.3.1)\n"
     ]
    }
   ],
   "source": [
    "if not already_in_repo:\n",
    "    !git clone https://github.com/laralex/Sk-DL2021-FinalProject .\n",
    "!git checkout $GIT_BRANCH\n",
    "\n",
    "!pip install pytorch_lightning\n",
    "!pip install jsonargparse\n",
    "\n",
    "sys.path.append(root_dir)"
   ]
  },
  {
   "cell_type": "markdown",
   "metadata": {},
   "source": [
    "### TensorBoard logs"
   ]
  },
  {
   "cell_type": "code",
   "execution_count": 4,
   "metadata": {},
   "outputs": [
    {
     "data": {
      "text/plain": [
       "ERROR: Timed out waiting for TensorBoard to start. It may still be running as pid 12296."
      ]
     },
     "metadata": {},
     "output_type": "display_data"
    }
   ],
   "source": [
    "%load_ext tensorboard\n",
    "%tensorboard --logdir $root_dir/logs"
   ]
  },
  {
   "cell_type": "markdown",
   "metadata": {},
   "source": [
    "### Launch training"
   ]
  },
  {
   "cell_type": "code",
   "execution_count": 5,
   "metadata": {},
   "outputs": [
    {
     "name": "stdout",
     "output_type": "stream",
     "text": [
      "Already up to date.\n"
     ]
    },
    {
     "name": "stderr",
     "output_type": "stream",
     "text": [
      "From https://github.com/laralex/Sk-DL2021-FinalProject\n",
      " * branch            configs    -> FETCH_HEAD\n"
     ]
    }
   ],
   "source": [
    "# useful for contributors\n",
    "if GIT_PULL:\n",
    "    !git pull origin $GIT_BRANCH"
   ]
  },
  {
   "cell_type": "code",
   "execution_count": 8,
   "metadata": {},
   "outputs": [],
   "source": [
    "%reload_ext autoreload\n",
    "%autoreload 1\n",
    "\n",
    "%aimport train"
   ]
  },
  {
   "cell_type": "code",
   "execution_count": null,
   "metadata": {},
   "outputs": [],
   "source": [
    "train.main(\n",
    "    root_dir = root_dir,\n",
    "    config_path = f\"{root_dir}/{CONFIG_PATH}\", \n",
    "    gpu_indices = GPUS_INDICES)"
   ]
  },
  {
   "cell_type": "code",
   "execution_count": null,
   "metadata": {},
   "outputs": [],
   "source": []
  }
 ],
 "metadata": {
  "kernelspec": {
   "display_name": "Python 3",
   "language": "python",
   "name": "python3"
  },
  "language_info": {
   "codemirror_mode": {
    "name": "ipython",
    "version": 3
   },
   "file_extension": ".py",
   "mimetype": "text/x-python",
   "name": "python",
   "nbconvert_exporter": "python",
   "pygments_lexer": "ipython3",
   "version": "3.8.8"
  }
 },
 "nbformat": 4,
 "nbformat_minor": 4
}
