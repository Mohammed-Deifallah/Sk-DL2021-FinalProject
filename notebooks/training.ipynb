{
 "cells": [
  {
   "cell_type": "markdown",
   "metadata": {
    "id": "u9vo6Wn4X_d7"
   },
   "source": [
    "<a href=\"https://colab.research.google.com/github/laralex/Sk-DL2021-FinalProject/blob/main/notebooks/training.ipynb\" target=\"_parent\"><img src=\"https://colab.research.google.com/assets/colab-badge.svg\" alt=\"Open In Colab\"/></a>"
   ]
  },
  {
   "cell_type": "markdown",
   "metadata": {
    "id": "Ob4Rn1VOX_d9"
   },
   "source": [
    "# Signal recovery from nonlinear distortion in optical communications\n",
    "Deep Learning 2021 course at Skoltech, Russia.\n",
    "\n",
    "The quickstart notebook:\n",
    "* reproduce the experiments from scratch\n",
    "* or resume training from a checkpoint\n",
    "* or loading of only model\n",
    "\n",
    "Suggested to use on Google Colab, but local Jupyter should work too even on CPU."
   ]
  },
  {
   "cell_type": "markdown",
   "metadata": {
    "id": "f0OzGO95X_d_"
   },
   "source": [
    "### ⚙️ Configure only there ⚙️"
   ]
  },
  {
   "cell_type": "code",
   "execution_count": 1,
   "metadata": {
    "id": "ndbJDmkkX_eA"
   },
   "outputs": [],
   "source": [
    "import torch\n",
    "\n",
    "REPO_DOWNLOAD_DIR_NAME = 'DL2021-FinalProjectExperiments'\n",
    "CONFIG_PATH = 'configs/GetDatasetFromGeneration.yaml' # relative to repository\n",
    "\n",
    "ON_COLAB = True\n",
    "MOUNT_GOOGLE_DRIVE = False # can't mount on Windows\n",
    "GPUS_INDICES = 1 if torch.cuda.is_available() else None # None for CPU, list for multiple GPU\n",
    "GOOGLE_DRIVE_DATASETS_PATH = 'Sk-DL2021-Datasets/' # relative to google drive\n",
    "\n",
    "GIT_BRANCH = 'generation-rework'\n",
    "GIT_PULL = True"
   ]
  },
  {
   "cell_type": "code",
   "execution_count": 2,
   "metadata": {
    "id": "-_n9dNhIX_eC"
   },
   "outputs": [],
   "source": [
    "# checkpoint\n",
    "\n",
    "# source: id on Google Drive or path (relative to current dir or absolute)\n",
    "# (optional) type: id/path, default path\n",
    "# (optional) action: resume_training/load_model, default load_model\n",
    "# (optional) version: number from version_N folder which training you resume\n",
    "USE_CHECKPOINT = False\n",
    "CHECKPOINT = {\n",
    "    'source': '1_VZoPqrAeEyQksywBn2bQ59jKXFGO0d0', \n",
    "    'type': 'id', \n",
    "    'action': 'resume_training',\n",
    "    'version': 23,\n",
    "}"
   ]
  },
  {
   "cell_type": "markdown",
   "metadata": {
    "id": "fbKmtKGCX_eE"
   },
   "source": [
    "### Destination of downloads (repository, logs, checkpoints)"
   ]
  },
  {
   "cell_type": "code",
   "execution_count": 3,
   "metadata": {
    "id": "8WepcDfsX_eG"
   },
   "outputs": [
    {
     "name": "stdout",
     "output_type": "stream",
     "text": [
      "Repo: D:/masters/courses/4-deep-learning/project/repo\n",
      "Logs: D:/masters/courses/4-deep-learning/project/repo\n",
      "Pregenerated dataset: None\n"
     ]
    }
   ],
   "source": [
    "import os\n",
    "import sys\n",
    "from pathlib import Path\n",
    "%reload_ext autoreload\n",
    "%autoreload 1\n",
    "\n",
    "git_root = !git rev-parse --show-toplevel\n",
    "already_in_repo = os.path.exists(git_root[0])\n",
    "current_dir = '/content' if ON_COLAB else '.'\n",
    "\n",
    "if MOUNT_GOOGLE_DRIVE:\n",
    "    from google.colab import drive\n",
    "    drive.mount(f'{current_dir}/drive')\n",
    "    repo_dir = f'{current_dir}/{REPO_DOWNLOAD_DIR_NAME}'\n",
    "    root_dir = f'{current_dir}/drive/MyDrive/{REPO_DOWNLOAD_DIR_NAME}'\n",
    "    datasets_dir = f'{current_dir}/drive/MyDrive/{GOOGLE_DRIVE_DATASETS_PATH}'\n",
    "else:\n",
    "    if already_in_repo:\n",
    "        root_dir = git_root[0]\n",
    "    else:\n",
    "        root_dir = f'{current_dir}/{REPO_DOWNLOAD_DIR_NAME}'\n",
    "    repo_dir = root_dir\n",
    "    datasets_dir = None\n",
    "print('Repo:', repo_dir)\n",
    "print('Logs:', root_dir)\n",
    "print('Pregenerated dataset:', datasets_dir)"
   ]
  },
  {
   "cell_type": "markdown",
   "metadata": {
    "id": "blg9jn9xX_eH"
   },
   "source": [
    "### Downloads"
   ]
  },
  {
   "cell_type": "code",
   "execution_count": 4,
   "metadata": {
    "id": "ZDIMweWyX_eK",
    "scrolled": true
   },
   "outputs": [
    {
     "name": "stdout",
     "output_type": "stream",
     "text": [
      "D:\\masters\\courses\\4-deep-learning\\project\\repo\n",
      "M\tconfigs/GetDatasetFromGeneration.yaml\n",
      "M\tdata/split_step_generator.py\n",
      "M\tmodels/dataset_debugging_model.py\n",
      "M\tnotebooks/training.ipynb\n"
     ]
    },
    {
     "name": "stderr",
     "output_type": "stream",
     "text": [
      "Already on 'generation-rework'\n"
     ]
    },
    {
     "name": "stdout",
     "output_type": "stream",
     "text": [
      "Already up to date.\n",
      "D:\\masters\\courses\\4-deep-learning\\project\\repo\\notebooks\n",
      "popd -> D:\\masters\\courses\\4-deep-learning\\project\\repo\\notebooks\n"
     ]
    },
    {
     "name": "stderr",
     "output_type": "stream",
     "text": [
      "From https://github.com/laralex/Sk-DL2021-FinalProject\n",
      " * branch            generation-rework -> FETCH_HEAD\n"
     ]
    }
   ],
   "source": [
    "if not already_in_repo:\n",
    "    !git clone https://github.com/laralex/Sk-DL2021-FinalProject $repo_dir\n",
    "%pushd $repo_dir \n",
    "!git checkout $GIT_BRANCH\n",
    "if GIT_PULL:\n",
    "    !git pull origin $GIT_BRANCH\n",
    "%popd\n",
    "\n",
    "try: \n",
    "    import pytorch_lightning\n",
    "    import jsonargparse\n",
    "except:\n",
    "    !pip install pytorch_lightning\n",
    "    !pip install jsonargparse\n",
    "\n",
    "if USE_CHECKPOINT and CHECKPOINT['type'] == 'id':\n",
    "    id = CHECKPOINT['source']\n",
    "    download_path = f\"{repo_dir}/downloads/downloaded_checkpoint.ckpt\"\n",
    "    !gdown --id $id -O $download_path\n",
    "    CHECKPOINT['source'] = download_path\n",
    "\n",
    "sys.path.append(root_dir)"
   ]
  },
  {
   "cell_type": "markdown",
   "metadata": {
    "id": "uC77K-_YX_eM"
   },
   "source": [
    "### TensorBoard logs"
   ]
  },
  {
   "cell_type": "code",
   "execution_count": 5,
   "metadata": {
    "id": "n0SxQvWDX_eM"
   },
   "outputs": [
    {
     "data": {
      "text/plain": [
       "Reusing TensorBoard on port 6006 (pid 7888), started 7 days, 3:38:11 ago. (Use '!kill 7888' to kill it.)"
      ]
     },
     "metadata": {},
     "output_type": "display_data"
    },
    {
     "data": {
      "text/html": [
       "\n",
       "      <iframe id=\"tensorboard-frame-c49c3e6d21a290f3\" width=\"100%\" height=\"800\" frameborder=\"0\">\n",
       "      </iframe>\n",
       "      <script>\n",
       "        (function() {\n",
       "          const frame = document.getElementById(\"tensorboard-frame-c49c3e6d21a290f3\");\n",
       "          const url = new URL(\"/\", window.location);\n",
       "          const port = 6006;\n",
       "          if (port) {\n",
       "            url.port = port;\n",
       "          }\n",
       "          frame.src = url;\n",
       "        })();\n",
       "      </script>\n",
       "    "
      ],
      "text/plain": [
       "<IPython.core.display.HTML object>"
      ]
     },
     "metadata": {},
     "output_type": "display_data"
    }
   ],
   "source": [
    "%load_ext tensorboard\n",
    "%tensorboard --logdir $root_dir/logs"
   ]
  },
  {
   "cell_type": "markdown",
   "metadata": {
    "id": "w05lo2aSX_eO"
   },
   "source": [
    "### Launch training"
   ]
  },
  {
   "cell_type": "code",
   "execution_count": 6,
   "metadata": {
    "id": "-yUVgM0EX_eP",
    "scrolled": true
   },
   "outputs": [
    {
     "name": "stderr",
     "output_type": "stream",
     "text": [
      "Global seed set to 42\n",
      "GPU available: False, used: False\n",
      "TPU available: False, using: 0 TPU cores\n"
     ]
    },
    {
     "name": "stdout",
     "output_type": "stream",
     "text": [
      "Pregenerating 4 batches\n"
     ]
    },
    {
     "name": "stderr",
     "output_type": "stream",
     "text": [
      "\n",
      "  | Name | Type | Params\n",
      "------------------------------\n",
      "------------------------------\n",
      "1         Trainable params\n",
      "0         Non-trainable params\n",
      "1         Total params\n",
      "0.000     Total estimated model params size (MB)\n"
     ]
    },
    {
     "name": "stdout",
     "output_type": "stream",
     "text": [
      "Pregenerating 0 batches\n"
     ]
    },
    {
     "data": {
      "application/vnd.jupyter.widget-view+json": {
       "model_id": "",
       "version_major": 2,
       "version_minor": 0
      },
      "text/plain": [
       "Validation sanity check: 0it [00:00, ?it/s]"
      ]
     },
     "metadata": {},
     "output_type": "display_data"
    },
    {
     "name": "stdout",
     "output_type": "stream",
     "text": [
      "val batch 319.324-0.000j\n",
      "val batch -57.119+0.000j\n"
     ]
    },
    {
     "name": "stderr",
     "output_type": "stream",
     "text": [
      "Global seed set to 42\n"
     ]
    },
    {
     "data": {
      "application/vnd.jupyter.widget-view+json": {
       "model_id": "902013de1f794dbbb9860dc774c3a5be",
       "version_major": 2,
       "version_minor": 0
      },
      "text/plain": [
       "Training: 0it [00:00, ?it/s]"
      ]
     },
     "metadata": {},
     "output_type": "display_data"
    },
    {
     "name": "stdout",
     "output_type": "stream",
     "text": [
      "train batch 616.182-0.000j\n",
      "train batch -45.599-0.000j\n"
     ]
    },
    {
     "name": "stderr",
     "output_type": "stream",
     "text": [
      "D:\\scoopapps\\apps\\miniconda3\\current\\envs\\torch\\lib\\site-packages\\pytorch_lightning\\trainer\\supporters.py:74: UserWarning: Casting complex values to real discards the imaginary part (Triggered internally at  ..\\aten\\src\\ATen\\native\\Copy.cpp:219.)\n",
      "  x = x.to(self.memory)\n"
     ]
    },
    {
     "name": "stdout",
     "output_type": "stream",
     "text": [
      "train batch -661.584+0.000j\n"
     ]
    },
    {
     "data": {
      "application/vnd.jupyter.widget-view+json": {
       "model_id": "",
       "version_major": 2,
       "version_minor": 0
      },
      "text/plain": [
       "Validating: 0it [00:00, ?it/s]"
      ]
     },
     "metadata": {},
     "output_type": "display_data"
    },
    {
     "name": "stdout",
     "output_type": "stream",
     "text": [
      "val batch 319.324-0.000j\n",
      "val batch -57.119+0.000j\n",
      "val batch -570.359-0.000j\n",
      "val batch -604.548-0.000j\n",
      "train batch 730.178+0.000j\n",
      "train batch 228.238-0.000j\n",
      "train batch -125.495+0.000j\n"
     ]
    },
    {
     "data": {
      "application/vnd.jupyter.widget-view+json": {
       "model_id": "",
       "version_major": 2,
       "version_minor": 0
      },
      "text/plain": [
       "Validating: 0it [00:00, ?it/s]"
      ]
     },
     "metadata": {},
     "output_type": "display_data"
    },
    {
     "name": "stdout",
     "output_type": "stream",
     "text": [
      "val batch 319.324-0.000j\n",
      "val batch -57.119+0.000j\n",
      "val batch -570.359-0.000j\n",
      "val batch -604.548-0.000j\n",
      "train batch 68.519+0.000j\n",
      "train batch -250.975+0.000j\n",
      "train batch 1083.721+0.000j\n"
     ]
    },
    {
     "data": {
      "application/vnd.jupyter.widget-view+json": {
       "model_id": "",
       "version_major": 2,
       "version_minor": 0
      },
      "text/plain": [
       "Validating: 0it [00:00, ?it/s]"
      ]
     },
     "metadata": {},
     "output_type": "display_data"
    },
    {
     "name": "stdout",
     "output_type": "stream",
     "text": [
      "val batch 319.324-0.000j\n",
      "val batch -57.119+0.000j\n",
      "val batch -570.359-0.000j\n",
      "val batch -604.548-0.000j\n"
     ]
    }
   ],
   "source": [
    "%aimport train\n",
    "model = train.main(\n",
    "        root_dir = root_dir,\n",
    "        config_path = repo_dir + '/' + CONFIG_PATH, \n",
    "        gpu_indices = GPUS_INDICES,\n",
    "        dataset_root_path = datasets_dir,\n",
    "        checkpoint_kwargs = CHECKPOINT if USE_CHECKPOINT else None)"
   ]
  },
  {
   "cell_type": "code",
   "execution_count": null,
   "metadata": {
    "id": "l_ibawI8X_eQ"
   },
   "outputs": [],
   "source": []
  }
 ],
 "metadata": {
  "colab": {
   "collapsed_sections": [],
   "name": "training.ipynb",
   "provenance": [],
   "toc_visible": true
  },
  "kernelspec": {
   "display_name": "Python 3",
   "language": "python",
   "name": "python3"
  },
  "language_info": {
   "codemirror_mode": {
    "name": "ipython",
    "version": 3
   },
   "file_extension": ".py",
   "mimetype": "text/x-python",
   "name": "python",
   "nbconvert_exporter": "python",
   "pygments_lexer": "ipython3",
   "version": "3.8.8"
  }
 },
 "nbformat": 4,
 "nbformat_minor": 1
}
