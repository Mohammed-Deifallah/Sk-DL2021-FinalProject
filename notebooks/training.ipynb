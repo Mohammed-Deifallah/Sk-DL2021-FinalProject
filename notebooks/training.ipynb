{
 "cells": [
  {
   "cell_type": "markdown",
   "metadata": {
    "id": "u9vo6Wn4X_d7"
   },
   "source": [
    "<a href=\"https://colab.research.google.com/github/laralex/Sk-DL2021-FinalProject/blob/main/notebooks/training.ipynb\" target=\"_parent\"><img src=\"https://colab.research.google.com/assets/colab-badge.svg\" alt=\"Open In Colab\"/></a>"
   ]
  },
  {
   "cell_type": "markdown",
   "metadata": {
    "id": "Ob4Rn1VOX_d9"
   },
   "source": [
    "# Signal recovery from nonlinear distortion in optical communications\n",
    "Deep Learning 2021 course at Skoltech, Russia.\n",
    "\n",
    "The quickstart notebook:\n",
    "* reproduce the experiments from scratch\n",
    "* or resume training from a checkpoint\n",
    "* or loading of only model\n",
    "\n",
    "Suggested to use on Google Colab, but local Jupyter should work too even on CPU."
   ]
  },
  {
   "cell_type": "markdown",
   "metadata": {
    "id": "f0OzGO95X_d_"
   },
   "source": [
    "### ⚙️ Configure only there ⚙️"
   ]
  },
  {
   "cell_type": "code",
   "execution_count": 1,
   "metadata": {
    "id": "ndbJDmkkX_eA"
   },
   "outputs": [],
   "source": [
    "import torch\n",
    "\n",
    "REPO_DOWNLOAD_DIR_NAME = 'DL2021-FinalProjectExperiments'\n",
    "CONFIG_PATH = 'configs/GetDatasetFromGeneration.yaml' # relative to repository\n",
    "\n",
    "ON_COLAB = True\n",
    "MOUNT_GOOGLE_DRIVE = False # can't mount on Windows\n",
    "GPUS_INDICES = 1 if torch.cuda.is_available() else None # None for CPU, list for multiple GPU\n",
    "GOOGLE_DRIVE_DATASETS_PATH = 'Sk-DL2021-Datasets/' # relative to google drive\n",
    "\n",
    "GIT_BRANCH = 'generation-rework'\n",
    "GIT_PULL = True"
   ]
  },
  {
   "cell_type": "code",
   "execution_count": 2,
   "metadata": {
    "id": "-_n9dNhIX_eC"
   },
   "outputs": [],
   "source": [
    "# checkpoint\n",
    "\n",
    "# source: id on Google Drive or path (relative to current dir or absolute)\n",
    "# (optional) type: id/path, default path\n",
    "# (optional) action: resume_training/load_model, default load_model\n",
    "# (optional) version: number from version_N folder which training you resume\n",
    "USE_CHECKPOINT = False\n",
    "CHECKPOINT = {\n",
    "    'source': '1_VZoPqrAeEyQksywBn2bQ59jKXFGO0d0', \n",
    "    'type': 'id', \n",
    "    'action': 'resume_training',\n",
    "    'version': 23,\n",
    "}"
   ]
  },
  {
   "cell_type": "markdown",
   "metadata": {
    "id": "fbKmtKGCX_eE"
   },
   "source": [
    "### Destination of downloads (repository, logs, checkpoints)"
   ]
  },
  {
   "cell_type": "code",
   "execution_count": 3,
   "metadata": {
    "id": "8WepcDfsX_eG"
   },
   "outputs": [
    {
     "name": "stdout",
     "output_type": "stream",
     "text": [
      "Repo: D:/masters/courses/4-deep-learning/project/repo\n",
      "Logs: D:/masters/courses/4-deep-learning/project/repo\n",
      "Pregenerated dataset: None\n"
     ]
    }
   ],
   "source": [
    "import os\n",
    "import sys\n",
    "from pathlib import Path\n",
    "%reload_ext autoreload\n",
    "%autoreload 1\n",
    "\n",
    "git_root = !git rev-parse --show-toplevel\n",
    "already_in_repo = os.path.exists(git_root[0])\n",
    "current_dir = '/content' if ON_COLAB else '.'\n",
    "\n",
    "if MOUNT_GOOGLE_DRIVE:\n",
    "    from google.colab import drive\n",
    "    drive.mount(f'{current_dir}/drive')\n",
    "    repo_dir = f'{current_dir}/{REPO_DOWNLOAD_DIR_NAME}'\n",
    "    root_dir = f'{current_dir}/drive/MyDrive/{REPO_DOWNLOAD_DIR_NAME}'\n",
    "    datasets_dir = f'{current_dir}/drive/MyDrive/{GOOGLE_DRIVE_DATASETS_PATH}'\n",
    "else:\n",
    "    if already_in_repo:\n",
    "        root_dir = git_root[0]\n",
    "    else:\n",
    "        root_dir = f'{current_dir}/{REPO_DOWNLOAD_DIR_NAME}'\n",
    "    repo_dir = root_dir\n",
    "    datasets_dir = None\n",
    "print('Repo:', repo_dir)\n",
    "print('Logs:', root_dir)\n",
    "print('Pregenerated dataset:', datasets_dir)"
   ]
  },
  {
   "cell_type": "markdown",
   "metadata": {
    "id": "blg9jn9xX_eH"
   },
   "source": [
    "### Downloads"
   ]
  },
  {
   "cell_type": "code",
   "execution_count": 4,
   "metadata": {
    "id": "ZDIMweWyX_eK",
    "scrolled": true
   },
   "outputs": [
    {
     "name": "stdout",
     "output_type": "stream",
     "text": [
      "D:\\masters\\courses\\4-deep-learning\\project\\repo\n",
      "M\tconfigs/DebugDataset2D.yaml\n",
      "M\tconfigs/fc10__data-nonlin0.02.yaml\n",
      "M\tdata/split_step_generator.py\n",
      "M\tdata/test_spst_gen.py\n",
      "M\tmodels/dataset_debugging_model.py\n",
      "M\tnotebooks/generate_dataset.ipynb\n",
      "M\tnotebooks/training.ipynb\n",
      "D\tutils/files.py\n"
     ]
    },
    {
     "name": "stderr",
     "output_type": "stream",
     "text": [
      "Already on 'generation-rework'\n",
      "fatal: couldn't find remote ref generation-rework\n"
     ]
    },
    {
     "name": "stdout",
     "output_type": "stream",
     "text": [
      "D:\\masters\\courses\\4-deep-learning\\project\\repo\\notebooks\n",
      "popd -> D:\\masters\\courses\\4-deep-learning\\project\\repo\\notebooks\n"
     ]
    }
   ],
   "source": [
    "if not already_in_repo:\n",
    "    !git clone https://github.com/laralex/Sk-DL2021-FinalProject $repo_dir\n",
    "%pushd $repo_dir \n",
    "!git checkout $GIT_BRANCH\n",
    "if GIT_PULL:\n",
    "    !git pull origin $GIT_BRANCH\n",
    "%popd\n",
    "\n",
    "try: \n",
    "    import pytorch_lightning\n",
    "    import jsonargparse\n",
    "except:\n",
    "    !pip install pytorch_lightning\n",
    "    !pip install jsonargparse\n",
    "\n",
    "if USE_CHECKPOINT and CHECKPOINT['type'] == 'id':\n",
    "    id = CHECKPOINT['source']\n",
    "    download_path = f\"{repo_dir}/downloads/downloaded_checkpoint.ckpt\"\n",
    "    !gdown --id $id -O $download_path\n",
    "    CHECKPOINT['source'] = download_path\n",
    "\n",
    "sys.path.append(root_dir)"
   ]
  },
  {
   "cell_type": "markdown",
   "metadata": {
    "id": "uC77K-_YX_eM"
   },
   "source": [
    "### TensorBoard logs"
   ]
  },
  {
   "cell_type": "code",
   "execution_count": 5,
   "metadata": {
    "id": "n0SxQvWDX_eM"
   },
   "outputs": [
    {
     "data": {
      "text/plain": [
       "Reusing TensorBoard on port 6006 (pid 7888), started 6 days, 17:05:38 ago. (Use '!kill 7888' to kill it.)"
      ]
     },
     "metadata": {},
     "output_type": "display_data"
    },
    {
     "data": {
      "text/html": [
       "\n",
       "      <iframe id=\"tensorboard-frame-db6abc2caee96af5\" width=\"100%\" height=\"800\" frameborder=\"0\">\n",
       "      </iframe>\n",
       "      <script>\n",
       "        (function() {\n",
       "          const frame = document.getElementById(\"tensorboard-frame-db6abc2caee96af5\");\n",
       "          const url = new URL(\"/\", window.location);\n",
       "          const port = 6006;\n",
       "          if (port) {\n",
       "            url.port = port;\n",
       "          }\n",
       "          frame.src = url;\n",
       "        })();\n",
       "      </script>\n",
       "    "
      ],
      "text/plain": [
       "<IPython.core.display.HTML object>"
      ]
     },
     "metadata": {},
     "output_type": "display_data"
    }
   ],
   "source": [
    "%load_ext tensorboard\n",
    "%tensorboard --logdir $root_dir/logs"
   ]
  },
  {
   "cell_type": "markdown",
   "metadata": {
    "id": "w05lo2aSX_eO"
   },
   "source": [
    "### Launch training"
   ]
  },
  {
   "cell_type": "code",
   "execution_count": 6,
   "metadata": {
    "id": "-yUVgM0EX_eP"
   },
   "outputs": [
    {
     "name": "stderr",
     "output_type": "stream",
     "text": [
      "Global seed set to 42\n",
      "GPU available: False, used: False\n",
      "TPU available: False, using: 0 TPU cores\n",
      "\n",
      "  | Name | Type | Params\n",
      "------------------------------\n",
      "------------------------------\n",
      "0         Trainable params\n",
      "0         Non-trainable params\n",
      "0         Total params\n",
      "0.000     Total estimated model params size (MB)\n"
     ]
    },
    {
     "data": {
      "application/vnd.jupyter.widget-view+json": {
       "model_id": "",
       "version_major": 2,
       "version_minor": 0
      },
      "text/plain": [
       "Validation sanity check: 0it [00:00, ?it/s]"
      ]
     },
     "metadata": {},
     "output_type": "display_data"
    },
    {
     "name": "stderr",
     "output_type": "stream",
     "text": [
      "Global seed set to 42\n"
     ]
    },
    {
     "data": {
      "application/vnd.jupyter.widget-view+json": {
       "model_id": "c1831e274dbe49ca99278eb2ee64ab2a",
       "version_major": 2,
       "version_minor": 0
      },
      "text/plain": [
       "Training: 0it [00:00, ?it/s]"
      ]
     },
     "metadata": {},
     "output_type": "display_data"
    },
    {
     "data": {
      "application/vnd.jupyter.widget-view+json": {
       "model_id": "",
       "version_major": 2,
       "version_minor": 0
      },
      "text/plain": [
       "Validating: 0it [00:00, ?it/s]"
      ]
     },
     "metadata": {},
     "output_type": "display_data"
    },
    {
     "data": {
      "application/vnd.jupyter.widget-view+json": {
       "model_id": "",
       "version_major": 2,
       "version_minor": 0
      },
      "text/plain": [
       "Validating: 0it [00:00, ?it/s]"
      ]
     },
     "metadata": {},
     "output_type": "display_data"
    },
    {
     "data": {
      "application/vnd.jupyter.widget-view+json": {
       "model_id": "",
       "version_major": 2,
       "version_minor": 0
      },
      "text/plain": [
       "Validating: 0it [00:00, ?it/s]"
      ]
     },
     "metadata": {},
     "output_type": "display_data"
    }
   ],
   "source": [
    "%aimport train\n",
    "model = train.main(\n",
    "        root_dir = root_dir,\n",
    "        config_path = repo_dir + '/' + CONFIG_PATH, \n",
    "        gpu_indices = GPUS_INDICES,\n",
    "        dataset_root_path = datasets_dir,\n",
    "        checkpoint_kwargs = CHECKPOINT if USE_CHECKPOINT else None)"
   ]
  },
  {
   "cell_type": "code",
   "execution_count": null,
   "metadata": {
    "id": "l_ibawI8X_eQ"
   },
   "outputs": [],
   "source": []
  }
 ],
 "metadata": {
  "colab": {
   "collapsed_sections": [],
   "name": "training.ipynb",
   "provenance": [],
   "toc_visible": true
  },
  "kernelspec": {
   "display_name": "Python 3",
   "language": "python",
   "name": "python3"
  },
  "language_info": {
   "codemirror_mode": {
    "name": "ipython",
    "version": 3
   },
   "file_extension": ".py",
   "mimetype": "text/x-python",
   "name": "python",
   "nbconvert_exporter": "python",
   "pygments_lexer": "ipython3",
   "version": "3.8.8"
  }
 },
 "nbformat": 4,
 "nbformat_minor": 1
}
