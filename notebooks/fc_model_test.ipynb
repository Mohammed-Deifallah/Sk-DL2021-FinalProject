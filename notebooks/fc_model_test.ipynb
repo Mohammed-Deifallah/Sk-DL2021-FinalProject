{
 "cells": [
  {
   "cell_type": "code",
   "execution_count": 9,
   "metadata": {},
   "outputs": [],
   "source": [
    "import sys\n",
    "sys.path.append('..')\n",
    "import torch\n",
    "from models.fc_model import FC_regressor"
   ]
  },
  {
   "cell_type": "code",
   "execution_count": 10,
   "metadata": {},
   "outputs": [],
   "source": [
    "model = FC_regressor(100, 5, sizes=[100,90,80,70,10], bias = False)"
   ]
  },
  {
   "cell_type": "code",
   "execution_count": 11,
   "metadata": {},
   "outputs": [
    {
     "output_type": "stream",
     "name": "stdout",
     "text": [
      "FC_regressor(\n  (net): FC_model(\n    (layers_real): ModuleList(\n      (0): Linear(in_features=100, out_features=100, bias=False)\n      (1): ReLU()\n      (2): Linear(in_features=100, out_features=90, bias=False)\n      (3): ReLU()\n      (4): Linear(in_features=90, out_features=80, bias=False)\n      (5): ReLU()\n      (6): Linear(in_features=80, out_features=70, bias=False)\n      (7): ReLU()\n      (8): Linear(in_features=70, out_features=10, bias=False)\n      (9): ReLU()\n    )\n    (layers_imag): ModuleList(\n      (0): Linear(in_features=100, out_features=100, bias=False)\n      (1): ReLU()\n      (2): Linear(in_features=100, out_features=90, bias=False)\n      (3): ReLU()\n      (4): Linear(in_features=90, out_features=80, bias=False)\n      (5): ReLU()\n      (6): Linear(in_features=80, out_features=70, bias=False)\n      (7): ReLU()\n      (8): Linear(in_features=70, out_features=10, bias=False)\n      (9): ReLU()\n    )\n  )\n  (criterion): EVM()\n  (train_accuracy): Accuracy()\n  (val_accuracy): Accuracy()\n)\n"
     ]
    }
   ],
   "source": [
    "print(model)"
   ]
  },
  {
   "cell_type": "code",
   "execution_count": 12,
   "metadata": {},
   "outputs": [],
   "source": [
    "x = torch.arange(100)/2 + 1j*torch.arange(100)/2"
   ]
  },
  {
   "cell_type": "code",
   "execution_count": 13,
   "metadata": {},
   "outputs": [
    {
     "output_type": "execute_result",
     "data": {
      "text/plain": [
       "tensor([0.0000+0.0000j, 0.0000+0.0000j, 0.0000+0.0000j, 0.0000+0.0000j,\n",
       "        0.9413+0.9413j, 0.0000+0.0000j, 0.0000+0.0000j, 0.3120+0.3120j,\n",
       "        0.2096+0.2096j, 0.0000+0.0000j], grad_fn=<AddBackward0>)"
      ]
     },
     "metadata": {},
     "execution_count": 13
    }
   ],
   "source": [
    "model(x)"
   ]
  },
  {
   "source": [
    "Loss testing "
   ],
   "cell_type": "markdown",
   "metadata": {}
  },
  {
   "cell_type": "code",
   "execution_count": 14,
   "metadata": {},
   "outputs": [
    {
     "output_type": "execute_result",
     "data": {
      "text/plain": [
       "tensor(0.3943)"
      ]
     },
     "metadata": {},
     "execution_count": 14
    }
   ],
   "source": [
    "model.criterion(torch.tensor([1.0+2j,2.4+1j]), torch.tensor([3.2+3j,6.4+5j]))"
   ]
  }
 ],
 "metadata": {
  "kernelspec": {
   "name": "python3710jvsc74a57bd09b6c46a2cfeb7771fba905868638ca0edd2605d074f7d01797e7e8649bfdb5ca",
   "display_name": "Python 3.7.10 64-bit ('base37': conda)"
  },
  "language_info": {
   "codemirror_mode": {
    "name": "ipython",
    "version": 3
   },
   "file_extension": ".py",
   "mimetype": "text/x-python",
   "name": "python",
   "nbconvert_exporter": "python",
   "pygments_lexer": "ipython3",
   "version": "3.7.10"
  }
 },
 "nbformat": 4,
 "nbformat_minor": 2
}