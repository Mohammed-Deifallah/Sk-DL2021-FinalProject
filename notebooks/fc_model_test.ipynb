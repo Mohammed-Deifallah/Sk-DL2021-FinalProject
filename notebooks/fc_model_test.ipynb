{
 "cells": [
  {
   "cell_type": "code",
   "execution_count": 1,
   "metadata": {},
   "outputs": [],
   "source": [
    "import sys\n",
    "sys.path.append('..')\n",
    "import torch\n",
    "from models.fc_model import FC_regressor"
   ]
  },
  {
   "cell_type": "code",
   "execution_count": 2,
   "metadata": {},
   "outputs": [],
   "source": [
    "model = FC_regressor(100, 5, sizes=[100, 90,80,70,10], bias = False)"
   ]
  },
  {
   "cell_type": "code",
   "execution_count": 3,
   "metadata": {},
   "outputs": [
    {
     "data": {
      "text/plain": [
       "FC_regressor(\n",
       "  (net): FC_model(\n",
       "    (layers): ModuleList(\n",
       "      (0): Linear(in_features=100, out_features=100, bias=False)\n",
       "      (1): Linear(in_features=100, out_features=90, bias=False)\n",
       "      (2): Linear(in_features=90, out_features=80, bias=False)\n",
       "      (3): Linear(in_features=80, out_features=70, bias=False)\n",
       "      (4): Linear(in_features=70, out_features=10, bias=False)\n",
       "    )\n",
       "  )\n",
       "  (criterion): MSELoss()\n",
       "  (train_accuracy): Accuracy()\n",
       "  (val_accuracy): Accuracy()\n",
       ")"
      ]
     },
     "execution_count": 3,
     "metadata": {},
     "output_type": "execute_result"
    }
   ],
   "source": [
    "model"
   ]
  },
  {
   "cell_type": "code",
   "execution_count": 4,
   "metadata": {},
   "outputs": [],
   "source": [
    "x = torch.arange(100)/2"
   ]
  },
  {
   "cell_type": "code",
   "execution_count": 5,
   "metadata": {},
   "outputs": [
    {
     "data": {
      "text/plain": [
       "tensor([-1.0074,  0.0990,  0.7213,  0.9507, -1.5290,  2.1855, -1.6959,  1.2191,\n",
       "        -1.9559, -3.0987], grad_fn=<SqueezeBackward3>)"
      ]
     },
     "execution_count": 5,
     "metadata": {},
     "output_type": "execute_result"
    }
   ],
   "source": [
    "model(x)"
   ]
  },
  {
   "cell_type": "code",
   "execution_count": null,
   "metadata": {},
   "outputs": [],
   "source": []
  }
 ],
 "metadata": {
  "kernelspec": {
   "display_name": "Python 3",
   "language": "python",
   "name": "python3"
  },
  "language_info": {
   "codemirror_mode": {
    "name": "ipython",
    "version": 3
   },
   "file_extension": ".py",
   "mimetype": "text/x-python",
   "name": "python",
   "nbconvert_exporter": "python",
   "pygments_lexer": "ipython3",
   "version": "3.8.8"
  }
 },
 "nbformat": 4,
 "nbformat_minor": 2
}
