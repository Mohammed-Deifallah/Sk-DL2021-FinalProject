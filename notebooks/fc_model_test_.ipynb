{
 "metadata": {
  "language_info": {
   "codemirror_mode": {
    "name": "ipython",
    "version": 3
   },
   "file_extension": ".py",
   "mimetype": "text/x-python",
   "name": "python",
   "nbconvert_exporter": "python",
   "pygments_lexer": "ipython3",
   "version": "3.7.10"
  },
  "orig_nbformat": 2,
  "kernelspec": {
   "name": "python3710jvsc74a57bd0ad45de1dd516b8cd87a2b1e7975e57b2f1d437e543402d591349742da6426dd6",
   "display_name": "Python 3.7.10 64-bit ('base37c': conda)"
  }
 },
 "nbformat": 4,
 "nbformat_minor": 2,
 "cells": [
  {
   "cell_type": "code",
   "execution_count": 1,
   "metadata": {},
   "outputs": [],
   "source": [
    "import sys\n",
    "sys.path.append('..')\n",
    "import torch\n",
    "from models.fc_model import FC_regressor, FC_model"
   ]
  },
  {
   "cell_type": "code",
   "execution_count": 2,
   "metadata": {},
   "outputs": [],
   "source": [
    "model = FC_model(4096, 5, sizes=[1000,100,100,1000,4096], bias = False, use_batchnorm= True, dropout= 0.1 )"
   ]
  },
  {
   "cell_type": "code",
   "execution_count": 3,
   "metadata": {},
   "outputs": [
    {
     "output_type": "stream",
     "name": "stdout",
     "text": [
      "FC_model(\n  (layers_real): ModuleList(\n    (0): Linear(in_features=4096, out_features=1000, bias=False)\n    (1): BatchNorm1d(1, eps=1e-05, momentum=0.1, affine=True, track_running_stats=True)\n    (2): ReLU()\n    (3): Dropout(p=0.1, inplace=False)\n    (4): Linear(in_features=1000, out_features=100, bias=False)\n    (5): BatchNorm1d(1, eps=1e-05, momentum=0.1, affine=True, track_running_stats=True)\n    (6): ReLU()\n    (7): Dropout(p=0.1, inplace=False)\n    (8): Linear(in_features=100, out_features=100, bias=False)\n    (9): BatchNorm1d(1, eps=1e-05, momentum=0.1, affine=True, track_running_stats=True)\n    (10): ReLU()\n    (11): Dropout(p=0.1, inplace=False)\n    (12): Linear(in_features=100, out_features=1000, bias=False)\n    (13): BatchNorm1d(1, eps=1e-05, momentum=0.1, affine=True, track_running_stats=True)\n    (14): ReLU()\n    (15): Dropout(p=0.1, inplace=False)\n    (16): Linear(in_features=1000, out_features=4096, bias=False)\n  )\n  (layers_imag): ModuleList(\n    (0): Linear(in_features=4096, out_features=1000, bias=False)\n    (1): BatchNorm1d(1, eps=1e-05, momentum=0.1, affine=True, track_running_stats=True)\n    (2): ReLU()\n    (3): Dropout(p=0.1, inplace=False)\n    (4): Linear(in_features=1000, out_features=100, bias=False)\n    (5): BatchNorm1d(1, eps=1e-05, momentum=0.1, affine=True, track_running_stats=True)\n    (6): ReLU()\n    (7): Dropout(p=0.1, inplace=False)\n    (8): Linear(in_features=100, out_features=100, bias=False)\n    (9): BatchNorm1d(1, eps=1e-05, momentum=0.1, affine=True, track_running_stats=True)\n    (10): ReLU()\n    (11): Dropout(p=0.1, inplace=False)\n    (12): Linear(in_features=100, out_features=1000, bias=False)\n    (13): BatchNorm1d(1, eps=1e-05, momentum=0.1, affine=True, track_running_stats=True)\n    (14): ReLU()\n    (15): Dropout(p=0.1, inplace=False)\n    (16): Linear(in_features=1000, out_features=4096, bias=False)\n  )\n)\n"
     ]
    }
   ],
   "source": [
    "print(model)"
   ]
  },
  {
   "cell_type": "code",
   "execution_count": 4,
   "metadata": {},
   "outputs": [],
   "source": [
    "x = torch.rand((32,1,4096)) + 1j*torch.rand((32,1,4096))"
   ]
  },
  {
   "cell_type": "code",
   "execution_count": 5,
   "metadata": {},
   "outputs": [
    {
     "output_type": "execute_result",
     "data": {
      "text/plain": [
       "(tensor([[[-0.0628, -0.5085,  0.2706,  ...,  0.0663, -0.0513, -0.2533]],\n",
       " \n",
       "         [[-0.2413, -0.2596,  0.0677,  ..., -0.3226, -0.2722,  0.0428]],\n",
       " \n",
       "         [[-0.3580, -0.2199,  0.1057,  ..., -0.4245, -0.1274, -0.1684]],\n",
       " \n",
       "         ...,\n",
       " \n",
       "         [[ 0.0548, -0.1895,  0.2044,  ..., -0.1717, -0.0399, -0.4458]],\n",
       " \n",
       "         [[-0.4253, -0.1330,  0.2297,  ..., -0.0894, -0.3153, -0.0024]],\n",
       " \n",
       "         [[ 0.3383, -0.3714,  0.1133,  ..., -0.2130, -0.5707, -0.3244]]],\n",
       "        grad_fn=<UnsafeViewBackward>),\n",
       " tensor([[[-0.2178, -0.7679,  0.3845,  ..., -0.3689, -0.1235, -0.0775]],\n",
       " \n",
       "         [[ 0.0585, -0.3150, -0.0128,  ..., -0.1331, -0.4211,  0.0074]],\n",
       " \n",
       "         [[-0.1434, -0.6870,  0.3764,  ..., -0.3170, -0.5484,  0.1398]],\n",
       " \n",
       "         ...,\n",
       " \n",
       "         [[-0.5725, -0.4409,  0.1626,  ..., -0.2190,  0.0581,  0.1792]],\n",
       " \n",
       "         [[-0.2191, -0.0973,  0.2855,  ...,  0.1174, -0.3680, -0.3544]],\n",
       " \n",
       "         [[-0.1195, -0.1326,  0.0024,  ..., -0.1083, -0.4301, -0.5896]]],\n",
       "        grad_fn=<UnsafeViewBackward>))"
      ]
     },
     "metadata": {},
     "execution_count": 5
    }
   ],
   "source": [
    "model(x.real, x.imag)"
   ]
  },
  {
   "cell_type": "code",
   "execution_count": 6,
   "metadata": {},
   "outputs": [],
   "source": [
    "from models.fc_single_model import FC_cat_model"
   ]
  },
  {
   "cell_type": "code",
   "execution_count": 11,
   "metadata": {},
   "outputs": [],
   "source": [
    "model = FC_cat_model(4096//2, 5, sizes=[1000,100,100,1000,4096//2], bias = False, use_batchnorm= True, dropout= 0.1)"
   ]
  },
  {
   "cell_type": "code",
   "execution_count": 12,
   "metadata": {},
   "outputs": [
    {
     "output_type": "stream",
     "name": "stdout",
     "text": [
      "FC_cat_model(\n  (layers): ModuleList(\n    (0): Linear(in_features=4096, out_features=2000, bias=False)\n    (1): BatchNorm1d(1, eps=1e-05, momentum=0.1, affine=True, track_running_stats=True)\n    (2): ReLU()\n    (3): Dropout(p=0.1, inplace=False)\n    (4): Linear(in_features=2000, out_features=200, bias=False)\n    (5): BatchNorm1d(1, eps=1e-05, momentum=0.1, affine=True, track_running_stats=True)\n    (6): ReLU()\n    (7): Dropout(p=0.1, inplace=False)\n    (8): Linear(in_features=200, out_features=200, bias=False)\n    (9): BatchNorm1d(1, eps=1e-05, momentum=0.1, affine=True, track_running_stats=True)\n    (10): ReLU()\n    (11): Dropout(p=0.1, inplace=False)\n    (12): Linear(in_features=200, out_features=2000, bias=False)\n    (13): BatchNorm1d(1, eps=1e-05, momentum=0.1, affine=True, track_running_stats=True)\n    (14): ReLU()\n    (15): Dropout(p=0.1, inplace=False)\n    (16): Linear(in_features=2000, out_features=4096, bias=False)\n  )\n)\n"
     ]
    }
   ],
   "source": [
    "print(model)"
   ]
  },
  {
   "cell_type": "code",
   "execution_count": 14,
   "metadata": {},
   "outputs": [],
   "source": [
    "x = torch.rand((32,1,4096))"
   ]
  },
  {
   "cell_type": "code",
   "execution_count": 15,
   "metadata": {},
   "outputs": [
    {
     "output_type": "execute_result",
     "data": {
      "text/plain": [
       "tensor([[[-0.8631, -0.1278,  0.2622,  ...,  0.1647,  0.1729,  0.1170]],\n",
       "\n",
       "        [[-0.5459, -0.2896,  0.2046,  ..., -0.2735, -0.0197,  0.4249]],\n",
       "\n",
       "        [[-0.4549, -0.4921, -0.0825,  ..., -0.3426,  0.2729,  0.5932]],\n",
       "\n",
       "        ...,\n",
       "\n",
       "        [[-0.3175, -0.5863,  0.2187,  ..., -0.2515,  0.6263,  0.2897]],\n",
       "\n",
       "        [[-0.9363, -0.0503,  0.1822,  ..., -0.1445, -0.2353,  0.4471]],\n",
       "\n",
       "        [[-0.7627, -0.1855,  0.2294,  ...,  0.1208,  0.0626,  0.6577]]],\n",
       "       grad_fn=<UnsafeViewBackward>)"
      ]
     },
     "metadata": {},
     "execution_count": 15
    }
   ],
   "source": [
    "model(x)"
   ]
  },
  {
   "cell_type": "code",
   "execution_count": null,
   "metadata": {},
   "outputs": [],
   "source": []
  }
 ]
}